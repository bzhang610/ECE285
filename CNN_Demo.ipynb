{
 "cells": [
  {
   "cell_type": "markdown",
   "metadata": {},
   "source": [
    "# Inception CNN Demo - 32 Classes"
   ]
  },
  {
   "cell_type": "markdown",
   "metadata": {},
   "source": [
    "### We will test the Inception CNN on a random batch of 150 doodles and see which are correctly/incorrectly classified."
   ]
  },
  {
   "cell_type": "code",
   "execution_count": 1,
   "metadata": {},
   "outputs": [],
   "source": [
    "import os, sys\n",
    "import importlib\n",
    "import torch\n",
    "import numpy as np\n",
    "import matplotlib.pyplot as plt\n",
    "\n",
    "from utils import load_torch, load"
   ]
  },
  {
   "cell_type": "markdown",
   "metadata": {},
   "source": [
    "### Load the sample batch"
   ]
  },
  {
   "cell_type": "markdown",
   "metadata": {},
   "source": [
    "#### The data is on the server. Use the command 'ln -s /datasets/ee285f-public/quickdraw' after launching your pod. This will load the dataset. "
   ]
  },
  {
   "cell_type": "code",
   "execution_count": 15,
   "metadata": {},
   "outputs": [],
   "source": [
    "importlib.reload(load_torch)\n",
    "\n",
    "data_folder = \"quickdraw/train_simplified/\"\n",
    "access_file_generator = map(lambda x : data_folder + x + '.csv', load.classes)\n",
    "generate = load_torch.ImageLoader(classes=load.classes_1+load.classes_2+load.classes_3+load.classes_4,root_location=data_folder,read_size=32,batch_size=150)\n",
    "gen = generate.__iter__()"
   ]
  },
  {
   "cell_type": "code",
   "execution_count": 16,
   "metadata": {},
   "outputs": [
    {
     "name": "stdout",
     "output_type": "stream",
     "text": [
      "X.shape: torch.Size([150, 1, 32, 32])\n",
      "y.shape: torch.Size([150])\n"
     ]
    }
   ],
   "source": [
    "%matplotlib inline\n",
    "X, y = next(gen)\n",
    "print('X.shape:', X.shape)\n",
    "print('y.shape:', y.shape)"
   ]
  },
  {
   "cell_type": "markdown",
   "metadata": {},
   "source": [
    "### Define Inception CNN Architecture"
   ]
  },
  {
   "cell_type": "code",
   "execution_count": 4,
   "metadata": {},
   "outputs": [],
   "source": [
    "# Code derived from: https://github.com/pytorch/vision/blob/master/torchvision/models/inception.py\n",
    "import torch.nn as nn\n",
    "import torch.nn.functional as F\n",
    "import torch.autograd as ag\n",
    "import torch.optim as optim\n",
    "\n",
    "class BasicConv2d(nn.Module):\n",
    "    def __init__(self, in_channels, out_channels, **kwargs):\n",
    "        super(BasicConv2d, self).__init__()\n",
    "        self.conv = nn.Conv2d(in_channels, out_channels, bias=False, **kwargs)\n",
    "        self.bn = nn.BatchNorm2d(out_channels, eps=0.001)\n",
    "\n",
    "    def forward(self, x):\n",
    "        x = self.conv(x)\n",
    "        x = self.bn(x)\n",
    "        return F.relu(x, inplace=True)\n",
    "\n",
    "class InceptionModule(nn.Module):\n",
    "\n",
    "    def __init__(self, in_channels):\n",
    "        super(InceptionModule, self).__init__()\n",
    "        self.branch1x1 = BasicConv2d(in_channels, 12, kernel_size=1)\n",
    "\n",
    "        self.branch3x3_1 = BasicConv2d(in_channels, 24, kernel_size=1)\n",
    "        self.branch3x3_2a = BasicConv2d(24, 24, kernel_size=(1, 3), padding=(0, 1))\n",
    "        self.branch3x3_2b = BasicConv2d(24, 24, kernel_size=(3, 1), padding=(1, 0))\n",
    "\n",
    "        self.branch3x3dbl_1 = BasicConv2d(in_channels, 32, kernel_size=1)\n",
    "        self.branch3x3dbl_2 = BasicConv2d(32, 24, kernel_size=3, padding=1)\n",
    "        self.branch3x3dbl_3a = BasicConv2d(24, 24, kernel_size=(1, 3), padding=(0, 1))\n",
    "        self.branch3x3dbl_3b = BasicConv2d(24, 24, kernel_size=(3, 1), padding=(1, 0))\n",
    "\n",
    "        self.branch_pool = BasicConv2d(in_channels, 16, kernel_size=1)\n",
    "\n",
    "    def forward(self, x):\n",
    "        branch1x1 = self.branch1x1(x)\n",
    "\n",
    "        branch3x3 = self.branch3x3_1(x)\n",
    "        branch3x3 = [\n",
    "            self.branch3x3_2a(branch3x3),\n",
    "            self.branch3x3_2b(branch3x3),\n",
    "        ]\n",
    "        branch3x3 = torch.cat(branch3x3, 1)\n",
    "\n",
    "        branch3x3dbl = self.branch3x3dbl_1(x)\n",
    "        branch3x3dbl = self.branch3x3dbl_2(branch3x3dbl)\n",
    "        branch3x3dbl = [\n",
    "            self.branch3x3dbl_3a(branch3x3dbl),\n",
    "            self.branch3x3dbl_3b(branch3x3dbl),\n",
    "        ]\n",
    "        branch3x3dbl = torch.cat(branch3x3dbl, 1)\n",
    "\n",
    "        branch_pool = F.avg_pool2d(x, kernel_size=3, stride=1, padding=1)\n",
    "        branch_pool = self.branch_pool(branch_pool)\n",
    "\n",
    "        outputs = [branch1x1, branch3x3, branch3x3dbl, branch_pool]\n",
    "        return torch.cat(outputs, 1)\n",
    "    \n",
    "class DoodleInception(nn.Module):\n",
    "    # Here we define our network structure\n",
    "    name=\"doodle-inception\"\n",
    "    def __init__(self, cdim=8):\n",
    "        super(DoodleInception, self).__init__()\n",
    "        self.conv1 = nn.Conv2d(1, 6, 3).double() \n",
    "        self.mod1  = InceptionModule(6).double()\n",
    "        self.conv2 = nn.Conv2d(124, 128, 3).double()\n",
    "        self.fc1   = nn.Linear(512,128).double()\n",
    "        self.fc2   = nn.Linear(128,cdim).double()\n",
    "        \n",
    "    def forward(self, x):\n",
    "        x = F.max_pool2d(F.relu(self.conv1(x)), (2, 2))\n",
    "        x = F.max_pool2d(F.relu(self.mod1(x)), (2, 2))  #?x124x7x7\n",
    "        x = F.max_pool2d(F.relu(self.conv2(x)), (2,2))  #?x128x2x2\n",
    "        x = x.view(-1, int(self.num_flat_features(x)))\n",
    "        x = F.relu(self.fc1(x))\n",
    "        x = self.fc2(x)\n",
    "        return x\n",
    "    \n",
    "    # Determine the number of features in a batch of tensors\n",
    "    def num_flat_features(self, x): \n",
    "        size = x.size()\n",
    "        return np.prod(size[1:])"
   ]
  },
  {
   "cell_type": "markdown",
   "metadata": {},
   "source": [
    "### Load the pre-trained network"
   ]
  },
  {
   "cell_type": "code",
   "execution_count": 5,
   "metadata": {},
   "outputs": [
    {
     "name": "stdout",
     "output_type": "stream",
     "text": [
      "DoodleInception(\n",
      "  (conv1): Conv2d(1, 6, kernel_size=(3, 3), stride=(1, 1))\n",
      "  (mod1): InceptionModule(\n",
      "    (branch1x1): BasicConv2d(\n",
      "      (conv): Conv2d(6, 12, kernel_size=(1, 1), stride=(1, 1), bias=False)\n",
      "      (bn): BatchNorm2d(12, eps=0.001, momentum=0.1, affine=True, track_running_stats=True)\n",
      "    )\n",
      "    (branch3x3_1): BasicConv2d(\n",
      "      (conv): Conv2d(6, 24, kernel_size=(1, 1), stride=(1, 1), bias=False)\n",
      "      (bn): BatchNorm2d(24, eps=0.001, momentum=0.1, affine=True, track_running_stats=True)\n",
      "    )\n",
      "    (branch3x3_2a): BasicConv2d(\n",
      "      (conv): Conv2d(24, 24, kernel_size=(1, 3), stride=(1, 1), padding=(0, 1), bias=False)\n",
      "      (bn): BatchNorm2d(24, eps=0.001, momentum=0.1, affine=True, track_running_stats=True)\n",
      "    )\n",
      "    (branch3x3_2b): BasicConv2d(\n",
      "      (conv): Conv2d(24, 24, kernel_size=(3, 1), stride=(1, 1), padding=(1, 0), bias=False)\n",
      "      (bn): BatchNorm2d(24, eps=0.001, momentum=0.1, affine=True, track_running_stats=True)\n",
      "    )\n",
      "    (branch3x3dbl_1): BasicConv2d(\n",
      "      (conv): Conv2d(6, 32, kernel_size=(1, 1), stride=(1, 1), bias=False)\n",
      "      (bn): BatchNorm2d(32, eps=0.001, momentum=0.1, affine=True, track_running_stats=True)\n",
      "    )\n",
      "    (branch3x3dbl_2): BasicConv2d(\n",
      "      (conv): Conv2d(32, 24, kernel_size=(3, 3), stride=(1, 1), padding=(1, 1), bias=False)\n",
      "      (bn): BatchNorm2d(24, eps=0.001, momentum=0.1, affine=True, track_running_stats=True)\n",
      "    )\n",
      "    (branch3x3dbl_3a): BasicConv2d(\n",
      "      (conv): Conv2d(24, 24, kernel_size=(1, 3), stride=(1, 1), padding=(0, 1), bias=False)\n",
      "      (bn): BatchNorm2d(24, eps=0.001, momentum=0.1, affine=True, track_running_stats=True)\n",
      "    )\n",
      "    (branch3x3dbl_3b): BasicConv2d(\n",
      "      (conv): Conv2d(24, 24, kernel_size=(3, 1), stride=(1, 1), padding=(1, 0), bias=False)\n",
      "      (bn): BatchNorm2d(24, eps=0.001, momentum=0.1, affine=True, track_running_stats=True)\n",
      "    )\n",
      "    (branch_pool): BasicConv2d(\n",
      "      (conv): Conv2d(6, 16, kernel_size=(1, 1), stride=(1, 1), bias=False)\n",
      "      (bn): BatchNorm2d(16, eps=0.001, momentum=0.1, affine=True, track_running_stats=True)\n",
      "    )\n",
      "  )\n",
      "  (conv2): Conv2d(124, 128, kernel_size=(3, 3), stride=(1, 1))\n",
      "  (fc1): Linear(in_features=512, out_features=128, bias=True)\n",
      "  (fc2): Linear(in_features=128, out_features=32, bias=True)\n",
      ")\n"
     ]
    }
   ],
   "source": [
    "classes = load.classes_1+load.classes_2+load.classes_3+load.classes_4\n",
    "net = DoodleInception(cdim=len(classes))\n",
    "net.load_state_dict(torch.load(\"utils/inception_cnn_32.pt\"))\n",
    "net.eval()\n",
    "print(net)"
   ]
  },
  {
   "cell_type": "markdown",
   "metadata": {},
   "source": [
    "### Evaluate the batch, possible lables are shown"
   ]
  },
  {
   "cell_type": "code",
   "execution_count": 17,
   "metadata": {},
   "outputs": [
    {
     "name": "stdout",
     "output_type": "stream",
     "text": [
      "['airplane', 'angel', 'basket', 'bear', 'belt', 'candle', 'crown', 'cat', 'bee', 'crab', 'drums', 'elephant', 'hospital', 'mouse', 'onion', 'tree', 'book', 'camel', 'camera', 'carrot', 'matches', 'microwave', 'nose', 'toaster', 'apple', 'cloud', 'dresser', 'drill', 'mug', 'pool', 'submarine', 'toilet']\n"
     ]
    }
   ],
   "source": [
    "ypred = net(X)\n",
    "print(classes)"
   ]
  },
  {
   "cell_type": "markdown",
   "metadata": {},
   "source": [
    "### Check for incorrect labels"
   ]
  },
  {
   "cell_type": "code",
   "execution_count": 18,
   "metadata": {},
   "outputs": [
    {
     "name": "stdout",
     "output_type": "stream",
     "text": [
      "Out of 150, there are 20 incorrectly classified samples\n"
     ]
    }
   ],
   "source": [
    "correct_label = []\n",
    "incorrect_label = []\n",
    "doodle = []\n",
    "\n",
    "for i in range(150):\n",
    "    if ypred[i].data.numpy().T.argmax(axis =0) != y[i]:\n",
    "        incorrect_label.append(ypred[i].data.numpy().T.argmax(axis =0))\n",
    "        correct_label.append(y[i])\n",
    "        doodle.append(X[i])\n",
    "        \n",
    "num_incorrect = len(incorrect_label)\n",
    "print(\"Out of 150, there are %s incorrectly classified samples\" %num_incorrect)"
   ]
  },
  {
   "cell_type": "code",
   "execution_count": 19,
   "metadata": {},
   "outputs": [
    {
     "name": "stdout",
     "output_type": "stream",
     "text": [
      "Here are 5 incorrectly classified examples:\n"
     ]
    },
    {
     "data": {
      "image/png": "[encoded data removed]",
      "text/plain": [
       "<Figure size 1440x1440 with 5 Axes>"
      ]
     },
     "metadata": {},
     "output_type": "display_data"
    }
   ],
   "source": [
    "print(\"Here are 5 incorrectly classified examples:\")\n",
    "plt.figure(figsize = (20,20))\n",
    "for i in range(5):\n",
    "    actual_label = classes[correct_label[i]]\n",
    "    predicted_label = classes[incorrect_label[i]]\n",
    "    plt.subplot(1,5,i+1)\n",
    "    img =1-doodle[i][0].numpy()\n",
    "    #img = img.resize((50,50))\n",
    "    plt.imshow(img, cmap='gray')\n",
    "    plt.title(\"Actual: '{0}' \\n Predicted: '{1}'\".format(actual_label,predicted_label) , fontsize = 15 )\n",
    "\n"
   ]
  },
  {
   "cell_type": "markdown",
   "metadata": {},
   "source": [
    "### Check for correct labels"
   ]
  },
  {
   "cell_type": "code",
   "execution_count": 20,
   "metadata": {},
   "outputs": [
    {
     "name": "stdout",
     "output_type": "stream",
     "text": [
      "Out of 150, there are 130 correctly classified samples\n"
     ]
    }
   ],
   "source": [
    "correct_label = []\n",
    "doodle = []\n",
    "\n",
    "for i in range(150):\n",
    "    if ypred[i].data.numpy().T.argmax(axis =0) == y[i]:\n",
    "        correct_label.append(y[i])\n",
    "        doodle.append(X[i])\n",
    "\n",
    "num_correct = len(correct_label)\n",
    "print(\"Out of 150, there are %s correctly classified samples\" %num_correct)"
   ]
  },
  {
   "cell_type": "code",
   "execution_count": 21,
   "metadata": {},
   "outputs": [
    {
     "name": "stdout",
     "output_type": "stream",
     "text": [
      "Here are 5 correctly classified exmaples:\n"
     ]
    },
    {
     "data": {
      "image/png": "[encoded data removed]",
      "text/plain": [
       "<Figure size 1440x1440 with 5 Axes>"
      ]
     },
     "metadata": {},
     "output_type": "display_data"
    }
   ],
   "source": [
    "print(\"Here are 5 correctly classified exmaples:\")\n",
    "\n",
    "plt.figure(figsize = (20,20))\n",
    "for i in range(5):\n",
    "    actual_label = classes[correct_label[i]]\n",
    "    plt.subplot(1,5,i+1)\n",
    "    img =1-doodle[i][0].numpy()\n",
    "    plt.imshow(img, cmap='gray')\n",
    "    plt.title(\"Label: '{0}' \".format(actual_label) , fontsize = 15 )\n",
    "\n"
   ]
  },
  {
   "cell_type": "code",
   "execution_count": null,
   "metadata": {},
   "outputs": [],
   "source": []
  }
 ],
 "metadata": {
  "kernelspec": {
   "display_name": "Python 3",
   "language": "python",
   "name": "python3"
  },
  "language_info": {
   "codemirror_mode": {
    "name": "ipython",
    "version": 3
   },
   "file_extension": ".py",
   "mimetype": "text/x-python",
   "name": "python",
   "nbconvert_exporter": "python",
   "pygments_lexer": "ipython3",
   "version": "3.6.4"
  }
 },
 "nbformat": 4,
 "nbformat_minor": 2
}
