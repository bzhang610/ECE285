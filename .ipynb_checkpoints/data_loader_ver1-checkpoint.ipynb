{
 "cells": [
  {
   "cell_type": "code",
   "execution_count": null,
   "metadata": {},
   "outputs": [],
   "source": [
    "#Data handling libraries\n",
    "import numpy as np\n",
    "import pandas as pd\n",
    "import os\n",
    "\n",
    "#Data Visualization libraries\n",
    "import matplotlib.pyplot as plt\n",
    "from IPython.display import display, HTML"
   ]
  },
  {
   "cell_type": "code",
   "execution_count": null,
   "metadata": {},
   "outputs": [],
   "source": [
    "classes = [\"airplane\",\"angel\",\"basket\",\"bear\",\"belt\",\"candle\",\"crown\",\"cat\",\"dog\",\"fish\"]\n",
    "\n",
    "\n",
    "class data_loader:\n",
    "    def __init__(self,access_files):\n",
    "        '''\n",
    "        Initialize a base data loader to load samples from a given access file\n",
    "        inputs:\n",
    "        -------\n",
    "        access_file: location of source folder\n",
    "        self: pointer to current class instance\n",
    "        '''\n",
    "        #self.access_file = access_file\n",
    "        frames = []\n",
    "        for index,file in enumerate(access_files):\n",
    "            data = pd.read_csv(file)\n",
    "            data.drop(data.loc[data['recognized']==False].index, inplace=True)\n",
    "            data.drop(columns=['recognized','timestamp','key_id'],axis=1,inplace=True)\n",
    "            frames.append(data)\n",
    "                \n",
    "        self.data = pd.concat(frames)\n",
    "        self.data = self.data.sample(frac=1).reset_index(drop=True)\n",
    "        display(HTML(self.data.head().to_html()))\n",
    "        \n",
    "    def __getitem__(self,index):\n",
    "        '''\n",
    "        Indexer of class to return specific locations during calls\n",
    "        inputs:\n",
    "        ------\n",
    "        self: pointer to current class instance\n",
    "        '''\n",
    "        return self.data.iloc[index];\n",
    "    \n",
    "    def head(self):\n",
    "        '''\n",
    "        To visualize sample values in the data\n",
    "        inputs:\n",
    "        -------\n",
    "        self: pointer to current class instance\n",
    "        '''\n",
    "        display(HTML(self.data.head().to_html()))"
   ]
  },
  {
   "cell_type": "code",
   "execution_count": null,
   "metadata": {},
   "outputs": [],
   "source": [
    "data_folder = \"data/simplified/\"\n",
    "access_file_generator = map(lambda x : data_folder + x + '.csv',classes)\n",
    "data = data_loader(access_file_generator)"
   ]
  },
  {
   "cell_type": "code",
   "execution_count": null,
   "metadata": {},
   "outputs": [],
   "source": []
  }
 ],
 "metadata": {
  "kernelspec": {
   "display_name": "Python 3",
   "language": "python",
   "name": "python3"
  },
  "language_info": {
   "codemirror_mode": {
    "name": "ipython",
    "version": 3
   },
   "file_extension": ".py",
   "mimetype": "text/x-python",
   "name": "python",
   "nbconvert_exporter": "python",
   "pygments_lexer": "ipython3",
   "version": "3.6.4"
  }
 },
 "nbformat": 4,
 "nbformat_minor": 2
}
