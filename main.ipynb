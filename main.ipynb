{
 "cells": [
  {
   "cell_type": "code",
   "execution_count": 1,
   "metadata": {},
   "outputs": [],
   "source": [
    "import os, sys\n",
    "import importlib\n",
    "import torch\n",
    "\n",
    "import numpy as np\n",
    "\n",
    "from utils import load, vis"
   ]
  },
  {
   "cell_type": "code",
   "execution_count": 2,
   "metadata": {},
   "outputs": [],
   "source": [
    "importlib.reload(vis)\n",
    "\n",
    "data_folder = \"../quickdraw/train_simplified/\"\n",
    "access_file_generator = map(lambda x : data_folder + x + '.csv', load.classes)\n",
    "trainGenerator = vis.ImageGenerator(access_file_generator)"
   ]
  },
  {
   "cell_type": "code",
   "execution_count": 3,
   "metadata": {},
   "outputs": [],
   "source": [
    "gen = trainGenerator.generateImages()"
   ]
  },
  {
   "cell_type": "code",
   "execution_count": 4,
   "metadata": {},
   "outputs": [
    {
     "name": "stdout",
     "output_type": "stream",
     "text": [
      "X.shape: (128, 28, 28, 4)\n",
      "y.shape: (128, 8)\n"
     ]
    },
    {
     "data": {
      "image/png": "[encoded data removed]",
      "text/plain": [
       "<Figure size 432x288 with 1 Axes>"
      ]
     },
     "metadata": {},
     "output_type": "display_data"
    }
   ],
   "source": [
    "%matplotlib inline\n",
    "X, y = next(gen)\n",
    "print('X.shape:', X.shape)\n",
    "print('y.shape:', y.shape)"
   ]
  },
  {
   "cell_type": "code",
   "execution_count": 5,
   "metadata": {},
   "outputs": [
    {
     "data": {
      "text/plain": [
       "array([0., 0., 1., 0., 0., 0., 0., 0.])"
      ]
     },
     "execution_count": 5,
     "metadata": {},
     "output_type": "execute_result"
    },
    {
     "data": {
      "image/png": "[encoded data removed]",
      "text/plain": [
       "<Figure size 432x288 with 1 Axes>"
      ]
     },
     "metadata": {},
     "output_type": "display_data"
    }
   ],
   "source": [
    "import matplotlib.pyplot as plt\n",
    "plt.imshow(X[0].astype(int))\n",
    "y[0]"
   ]
  },
  {
   "cell_type": "markdown",
   "metadata": {},
   "source": [
    "# Building PyTorch CNN Model"
   ]
  },
  {
   "cell_type": "code",
   "execution_count": 6,
   "metadata": {},
   "outputs": [],
   "source": [
    "import torch.nn as nn\n",
    "import torch.nn.functional as F\n",
    "import torch.autograd as ag\n",
    "import torch.optim as optim\n",
    "\n",
    "\n",
    "class LeNet(nn.Module):\n",
    "    # Here we define our network structure\n",
    "    def __init__(self, cdim=8):\n",
    "        super(LeNet, self).__init__()\n",
    "        self.conv1 = nn.Conv2d(4, 6, 5).double() \n",
    "        self.conv2 = nn.Conv2d(6,16,5).double()\n",
    "        self.fc1   = nn.Linear(256,120).double()\n",
    "        self.fc2   = nn.Linear(120, 84).double() \n",
    "        self.fc3   = nn.Linear(84, cdim).double()\n",
    "        \n",
    "    # Here we define one forward pass through the network\n",
    "    def forward(self, x):\n",
    "        x = F.max_pool2d(F.relu(self.conv1(x)), (2, 2))\n",
    "        x = F.max_pool2d(F.relu(self.conv2(x)), (2, 2))\n",
    "        x = x.view(-1, self.num_flat_features(x)) \n",
    "        x = F.relu(self.fc1(x))\n",
    "        x = F.relu(self.fc2(x))\n",
    "        x = self.fc3(x)\n",
    "        return x\n",
    "    \n",
    "    # Determine the number of features in a batch of tensors\n",
    "    def num_flat_features(self, x): \n",
    "        size = x.size()[1:]\n",
    "        return np.prod(size)\n",
    "\n",
    "\n",
    "net = LeNet(cdim=y.shape[1])"
   ]
  },
  {
   "cell_type": "code",
   "execution_count": 7,
   "metadata": {},
   "outputs": [
    {
     "name": "stdout",
     "output_type": "stream",
     "text": [
      "Classification Accuracy on Initialized LeNet = 11.7%\n"
     ]
    }
   ],
   "source": [
    "xtest = ag.Variable(torch.from_numpy(np.moveaxis(X, [-1], [1])), requires_grad=False)\n",
    "ypred = net(xtest)\n",
    "acc   = 100 * np.mean(np.argmax(y,1) == ypred.data.numpy().T.argmax(axis=0))\n",
    "print('Classification Accuracy on Initialized LeNet = {0:.3}%'.format(acc))"
   ]
  },
  {
   "cell_type": "code",
   "execution_count": 8,
   "metadata": {},
   "outputs": [],
   "source": [
    "B     = 128              # Minibatch size\n",
    "T     = 10               # Number of epochs\n",
    "gamma = .001             # learning rate\n",
    "rho   = .9               # momentum\n",
    "\n",
    "criterion = nn.CrossEntropyLoss()\n",
    "optimizer = torch.optim.SGD(\n",
    "    net.parameters(),\n",
    "    lr=gamma,\n",
    "    momentum=rho\n",
    ")"
   ]
  },
  {
   "cell_type": "code",
   "execution_count": null,
   "metadata": {},
   "outputs": [
    {
     "name": "stderr",
     "output_type": "stream",
     "text": [
      "/opt/conda/lib/python3.6/site-packages/ipykernel_launcher.py:21: UserWarning: invalid index of a 0-dim tensor. This will be an error in PyTorch 0.5. Use tensor.item() to convert a 0-dim tensor to a Python number\n"
     ]
    },
    {
     "name": "stdout",
     "output_type": "stream",
     "text": [
      "[1,    10] loss: 0.196\n",
      "[1,    20] loss: 0.206\n",
      "[1,    30] loss: 0.200\n",
      "[1,    40] loss: 0.187\n",
      "[1,    50] loss: 0.172\n",
      "[1,    60] loss: 0.159\n"
     ]
    }
   ],
   "source": [
    "if torch.cuda.is_available():\n",
    "    net = net.cuda()\n",
    "\n",
    "for epoch in range(T):\n",
    "    running_loss, k   = 0.0, 0\n",
    "    for X,y in trainGenerator.generateImages():\n",
    "        inputs = ag.Variable(torch.from_numpy(np.moveaxis(X, [-1], [1])), requires_grad=False)\n",
    "        labels = ag.Variable(torch.from_numpy(np.argmax(y, 1)), requires_grad=False)\n",
    "        \n",
    "        if torch.cuda.is_available():\n",
    "            inputs  = inputs.cuda()\n",
    "            labels  = labels.cuda()\n",
    "        \n",
    "        # Initialize the gradiaent to zero\n",
    "        optimizer.zero_grad()\n",
    "        output = net(inputs)\n",
    "        loss   = criterion(output, labels)\n",
    "        loss.backward()\n",
    "        optimizer.step()\n",
    "        \n",
    "        running_loss += loss[0]\n",
    "        k += 1\n",
    "        if k % 10 == 9:\n",
    "            print('[%d, %5d] loss: %.3f' % (epoch + 1, k + 1, running_loss/10))\n",
    "            running_loss = 0.0\n",
    "\n",
    "print('Finished Training')"
   ]
  }
 ],
 "metadata": {
  "kernelspec": {
   "display_name": "Python 3",
   "language": "python",
   "name": "python3"
  },
  "language_info": {
   "codemirror_mode": {
    "name": "ipython",
    "version": 3
   },
   "file_extension": ".py",
   "mimetype": "text/x-python",
   "name": "python",
   "nbconvert_exporter": "python",
   "pygments_lexer": "ipython3",
   "version": "3.6.4"
  }
 },
 "nbformat": 4,
 "nbformat_minor": 2
}
