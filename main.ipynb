{
 "cells": [
  {
   "cell_type": "code",
   "execution_count": 1,
   "metadata": {},
   "outputs": [],
   "source": [
    "import os, sys\n",
    "import importlib\n",
    "import torch\n",
    "\n",
    "import numpy as np\n",
    "\n",
    "from utils import load_torch, load"
   ]
  },
  {
   "cell_type": "code",
   "execution_count": 2,
   "metadata": {},
   "outputs": [],
   "source": [
    "importlib.reload(load_torch)\n",
    "\n",
    "data_folder = \"data/simplified/\"\n",
    "access_file_generator = map(lambda x : data_folder + x + '.csv', load.classes)\n",
    "trainGenerator = load_torch.ImageLoader(load.classes_1, data_folder)"
   ]
  },
  {
   "cell_type": "code",
   "execution_count": 3,
   "metadata": {},
   "outputs": [],
   "source": [
    "gen = trainGenerator.__iter__()"
   ]
  },
  {
   "cell_type": "code",
   "execution_count": 4,
   "metadata": {},
   "outputs": [
    {
     "name": "stdout",
     "output_type": "stream",
     "text": [
      "X.shape: torch.Size([16, 1, 32, 32])\n",
      "y.shape: torch.Size([16])\n"
     ]
    }
   ],
   "source": [
    "%matplotlib inline\n",
    "X, y = next(gen)\n",
    "print('X.shape:', X.shape)\n",
    "print('y.shape:', y.shape)"
   ]
  },
  {
   "cell_type": "markdown",
   "metadata": {},
   "source": [
    "# Building PyTorch CNN Model"
   ]
  },
  {
   "cell_type": "code",
   "execution_count": 5,
   "metadata": {},
   "outputs": [],
   "source": [
    "import torch.nn as nn\n",
    "import torch.nn.functional as F\n",
    "import torch.autograd as ag\n",
    "import torch.optim as optim\n",
    "\n",
    "\n",
    "class VanillaDoodle(nn.Module):\n",
    "    # Here we define our network structure\n",
    "    name=\"doodle-vanilla\"\n",
    "    def __init__(self, cdim=8):\n",
    "        super(LeNet, self).__init__()\n",
    "        self.conv1 = nn.Conv2d(1, 6, 3).double() \n",
    "        self.conv2 = nn.Conv2d(6,16, 3).double()\n",
    "        self.conv3 = nn.Conv2d(16,32,3).double()\n",
    "        self.conv4 = nn.Conv2d(32,64,3).double()\n",
    "        self.fc1   = nn.Linear(128,120).double()\n",
    "        self.fc2   = nn.Linear(120, 84).double() \n",
    "        self.fc3   = nn.Linear(84,cdim).double()\n",
    "        \n",
    "    # Here we define one forward pass through the network\n",
    "    def forward(self, x):\n",
    "        x = F.max_pool2d(F.relu(self.conv1(x)), (2, 2))\n",
    "        x = F.max_pool2d(F.relu(self.conv2(x)), (2, 2))\n",
    "        x = F.max_pool2d(F.relu(self.conv3(x)), (2, 2))\n",
    "        x = x.view(-1, int(self.num_flat_features(x)))\n",
    "        x = F.relu(self.fc1(x))\n",
    "        x = F.relu(self.fc2(x))\n",
    "        x = self.fc3(x)\n",
    "        return x\n",
    "    \n",
    "    # Determine the number of features in a batch of tensors\n",
    "    def num_flat_features(self, x): \n",
    "        size = x.size()\n",
    "        return np.prod(size[1:])\n",
    "\n",
    "\n",
    "#net = VanillaDoodle(cdim=len(load.classes_1))"
   ]
  },
  {
   "cell_type": "code",
   "execution_count": 6,
   "metadata": {},
   "outputs": [],
   "source": [
    "# Code derived from: https://github.com/pytorch/vision/blob/master/torchvision/models/inception.py\n",
    "\n",
    "class BasicConv2d(nn.Module):\n",
    "    def __init__(self, in_channels, out_channels, **kwargs):\n",
    "        super(BasicConv2d, self).__init__()\n",
    "        self.conv = nn.Conv2d(in_channels, out_channels, bias=False, **kwargs)\n",
    "        self.bn = nn.BatchNorm2d(out_channels, eps=0.001)\n",
    "\n",
    "    def forward(self, x):\n",
    "        x = self.conv(x)\n",
    "        x = self.bn(x)\n",
    "        return F.relu(x, inplace=True)\n",
    "\n",
    "class InceptionModule(nn.Module):\n",
    "\n",
    "    def __init__(self, in_channels):\n",
    "        super(InceptionModule, self).__init__()\n",
    "        self.branch1x1 = BasicConv2d(in_channels, 12, kernel_size=1)\n",
    "\n",
    "        self.branch3x3_1 = BasicConv2d(in_channels, 24, kernel_size=1)\n",
    "        self.branch3x3_2a = BasicConv2d(24, 24, kernel_size=(1, 3), padding=(0, 1))\n",
    "        self.branch3x3_2b = BasicConv2d(24, 24, kernel_size=(3, 1), padding=(1, 0))\n",
    "\n",
    "        self.branch3x3dbl_1 = BasicConv2d(in_channels, 32, kernel_size=1)\n",
    "        self.branch3x3dbl_2 = BasicConv2d(32, 24, kernel_size=3, padding=1)\n",
    "        self.branch3x3dbl_3a = BasicConv2d(24, 24, kernel_size=(1, 3), padding=(0, 1))\n",
    "        self.branch3x3dbl_3b = BasicConv2d(24, 24, kernel_size=(3, 1), padding=(1, 0))\n",
    "\n",
    "        self.branch_pool = BasicConv2d(in_channels, 16, kernel_size=1)\n",
    "\n",
    "    def forward(self, x):\n",
    "        branch1x1 = self.branch1x1(x)\n",
    "\n",
    "        branch3x3 = self.branch3x3_1(x)\n",
    "        branch3x3 = [\n",
    "            self.branch3x3_2a(branch3x3),\n",
    "            self.branch3x3_2b(branch3x3),\n",
    "        ]\n",
    "        branch3x3 = torch.cat(branch3x3, 1)\n",
    "\n",
    "        branch3x3dbl = self.branch3x3dbl_1(x)\n",
    "        branch3x3dbl = self.branch3x3dbl_2(branch3x3dbl)\n",
    "        branch3x3dbl = [\n",
    "            self.branch3x3dbl_3a(branch3x3dbl),\n",
    "            self.branch3x3dbl_3b(branch3x3dbl),\n",
    "        ]\n",
    "        branch3x3dbl = torch.cat(branch3x3dbl, 1)\n",
    "\n",
    "        branch_pool = F.avg_pool2d(x, kernel_size=3, stride=1, padding=1)\n",
    "        branch_pool = self.branch_pool(branch_pool)\n",
    "\n",
    "        outputs = [branch1x1, branch3x3, branch3x3dbl, branch_pool]\n",
    "        return torch.cat(outputs, 1)\n",
    "    \n",
    "class DoodleInception(nn.Module):\n",
    "    # Here we define our network structure\n",
    "    name=\"doodle-inception\"\n",
    "    def __init__(self, cdim=8):\n",
    "        super(DoodleInception, self).__init__()\n",
    "        self.conv1 = nn.Conv2d(1, 6, 3).double() \n",
    "        self.mod1  = InceptionModule(6).double()\n",
    "        self.conv2 = nn.Conv2d(124, 128, 3).double()\n",
    "        self.fc1   = nn.Linear(512,128).double()\n",
    "        self.fc2   = nn.Linear(128,cdim).double()\n",
    "        \n",
    "    def forward(self, x):\n",
    "        x = F.max_pool2d(F.relu(self.conv1(x)), (2, 2))\n",
    "        x = F.max_pool2d(F.relu(self.mod1(x)), (2, 2))  #?x124x7x7\n",
    "        x = F.max_pool2d(F.relu(self.conv2(x)), (2,2))  #?x128x2x2\n",
    "        x = x.view(-1, int(self.num_flat_features(x)))\n",
    "        x = F.relu(self.fc1(x))\n",
    "        x = self.fc2(x)\n",
    "        return x\n",
    "    \n",
    "    # Determine the number of features in a batch of tensors\n",
    "    def num_flat_features(self, x): \n",
    "        size = x.size()\n",
    "        return np.prod(size[1:])"
   ]
  },
  {
   "cell_type": "code",
   "execution_count": 10,
   "metadata": {},
   "outputs": [],
   "source": [
    "B     = 128              # Minibatch size\n",
    "T     = 10               # Number of epochs\n",
    "gamma = .001             # learning rate\n",
    "rho   = .9               # momentum\n",
    "\n",
    "classes = load.classes_1\n",
    "    \n",
    "net = DoodleInception(cdim=len(classes))\n",
    "\n",
    "criterion = nn.CrossEntropyLoss()\n",
    "optimizer = torch.optim.SGD(\n",
    "    net.parameters(),\n",
    "    lr=gamma,\n",
    "    momentum=rho\n",
    ")"
   ]
  },
  {
   "cell_type": "code",
   "execution_count": null,
   "metadata": {},
   "outputs": [
    {
     "name": "stdout",
     "output_type": "stream",
     "text": [
      "Epoch [1/10], Step [100], Loss: 1.9099 (val:1.8602), Accuracy:42.86% (val:31.82%)\n"
     ]
    }
   ],
   "source": [
    "if torch.cuda.is_available():\n",
    "    net = net.cuda()\n",
    "\n",
    "trainingAcc = [0]\n",
    "testingAcc  = [0]\n",
    "trainingLoss = []\n",
    "testingLoss = []\n",
    "for epoch in range(T):            \n",
    "    gen = load_torch.ImageLoader(classes=load.classes_1,root_location=data_folder,read_size=32,batch_size=150)\n",
    "    for i, (images, labels) in enumerate(gen):\n",
    "\n",
    "        vsplit = int(images.shape[0]*0.8)\n",
    "        \n",
    "        xtrain = images[:vsplit]\n",
    "        ltrain = labels[:vsplit]\n",
    "        \n",
    "        xtest  = images[vsplit:]\n",
    "        ltest  = labels[vsplit:]\n",
    "        \n",
    "        # Forward pass\n",
    "        ypred = net(xtrain)\n",
    "        loss = criterion(ypred.cpu(), ltrain)\n",
    "        train_acc  = 100 * np.mean(ltrain.data.numpy() == ypred.cpu().data.numpy ().T.argmax(axis =0))\n",
    "        train_loss = loss.item()\n",
    "        \n",
    "        # Backward and optimize\n",
    "        optimizer.zero_grad()\n",
    "        loss.backward()\n",
    "        optimizer.step()\n",
    "        \n",
    "        ypred = net(xtest)\n",
    "        loss = criterion(ypred.cpu(), ltest)\n",
    "        test_acc  = 100 * np.mean(ltest.data.numpy() == ypred.cpu().data.numpy ().T.argmax(axis =0))\n",
    "        test_loss = loss.item()\n",
    "        \n",
    "        del images\n",
    "        del labels\n",
    "        del ypred\n",
    "\n",
    "        if (i+1) % 100 == 0:\n",
    "            print ('Epoch [{}/{}], Step [{}], Loss: {:.4f} (val:{:.4f}), Accuracy:{:.2f}% (val:{:.2f}%)' .format(epoch+1, T, i+1, train_loss, test_loss, train_acc, test_acc))\n",
    "            #model.save_state_dict('mytraining.pt')\n",
    "        if (i+1)%100==0:\n",
    "            trainingAcc.append((0.1*train_acc) + (0.9*trainingAcc[-1]))\n",
    "            trainingLoss.append(train_loss)\n",
    "            testingAcc.append((0.1*test_acc) + (0.9*testingAcc[-1]))\n",
    "            testingLoss.append(test_loss)"
   ]
  },
  {
   "cell_type": "code",
   "execution_count": null,
   "metadata": {},
   "outputs": [],
   "source": [
    "import matplotlib.pyplot as plt\n",
    "\n",
    "plt.plot(accuracy)\n",
    "plt.ylabel(\"accuracy\")\n",
    "plt.xlabel(\"epochs\")\n",
    "plt.title(\"model accuracy\")\n",
    "plt.savefig(\"Graphs/{0}-{1}classes-acc.png\".format(net.name, len(classes)))\n",
    "plt.show()\n",
    "plt.close()\n",
    "\n",
    "plt.plot(loss_stored)\n",
    "plt.ylabel(\"loss\")\n",
    "plt.xlabel(\"epochs\")\n",
    "plt.title(\"model loss\")\n",
    "plt.savefig(\"Graphs/{0}-{1}classes-loss.png\".format(net.name, len(classes)))\n",
    "plt.show()\n",
    "plt.close()"
   ]
  },
  {
   "cell_type": "code",
   "execution_count": null,
   "metadata": {},
   "outputs": [],
   "source": []
  }
 ],
 "metadata": {
  "kernelspec": {
   "display_name": "Python 3",
   "language": "python",
   "name": "python3"
  },
  "language_info": {
   "codemirror_mode": {
    "name": "ipython",
    "version": 3
   },
   "file_extension": ".py",
   "mimetype": "text/x-python",
   "name": "python",
   "nbconvert_exporter": "python",
   "pygments_lexer": "ipython3",
   "version": "3.6.4"
  }
 },
 "nbformat": 4,
 "nbformat_minor": 2
}
