{
 "cells": [
  {
   "cell_type": "code",
   "execution_count": 1,
   "metadata": {},
   "outputs": [
    {
     "name": "stderr",
     "output_type": "stream",
     "text": [
      "/Library/Frameworks/Python.framework/Versions/3.6/lib/python3.6/site-packages/h5py/__init__.py:36: FutureWarning: Conversion of the second argument of issubdtype from `float` to `np.floating` is deprecated. In future, it will be treated as `np.float64 == np.dtype(float).type`.\n",
      "  from ._conv import register_converters as _register_converters\n",
      "Using TensorFlow backend.\n"
     ]
    }
   ],
   "source": [
    "import os, sys\n",
    "import importlib\n",
    "\n",
    "from utils import load, vis, models"
   ]
  },
  {
   "cell_type": "code",
   "execution_count": 2,
   "metadata": {},
   "outputs": [
    {
     "data": {
      "text/html": [
       "<table border=\"1\" class=\"dataframe\">\n",
       "  <thead>\n",
       "    <tr style=\"text-align: right;\">\n",
       "      <th></th>\n",
       "      <th>countrycode</th>\n",
       "      <th>drawing</th>\n",
       "      <th>word</th>\n",
       "    </tr>\n",
       "  </thead>\n",
       "  <tbody>\n",
       "    <tr>\n",
       "      <th>0</th>\n",
       "      <td>US</td>\n",
       "      <td>[[[60, 71, 90, 95, 100, 105, 136, 162, 163, 15...</td>\n",
       "      <td>candle</td>\n",
       "    </tr>\n",
       "    <tr>\n",
       "      <th>1</th>\n",
       "      <td>US</td>\n",
       "      <td>[[[73, 83, 87, 105, 107, 122, 134, 141, 157, 1...</td>\n",
       "      <td>cat</td>\n",
       "    </tr>\n",
       "    <tr>\n",
       "      <th>2</th>\n",
       "      <td>US</td>\n",
       "      <td>[[[67, 61, 52, 33, 32, 44, 63, 42, 23], [73, 7...</td>\n",
       "      <td>candle</td>\n",
       "    </tr>\n",
       "    <tr>\n",
       "      <th>3</th>\n",
       "      <td>CA</td>\n",
       "      <td>[[[3, 21], [71, 71]], [[1, 11, 22], [73, 90, 7...</td>\n",
       "      <td>dog</td>\n",
       "    </tr>\n",
       "    <tr>\n",
       "      <th>4</th>\n",
       "      <td>US</td>\n",
       "      <td>[[[18, 13, 10, 15, 23, 28, 29, 32, 44, 89, 87,...</td>\n",
       "      <td>cat</td>\n",
       "    </tr>\n",
       "  </tbody>\n",
       "</table>"
      ],
      "text/plain": [
       "<IPython.core.display.HTML object>"
      ]
     },
     "metadata": {},
     "output_type": "display_data"
    }
   ],
   "source": [
    "importlib.reload(load)\n",
    "\n",
    "data_folder = \"data/simplified/\"\n",
    "access_file_generator = map(lambda x : data_folder + x + '.csv', load.classes)\n",
    "data = load.data_loader(access_file_generator)"
   ]
  },
  {
   "cell_type": "code",
   "execution_count": 3,
   "metadata": {},
   "outputs": [
    {
     "data": {
      "text/plain": [
       "(1306694, 3)"
      ]
     },
     "execution_count": 3,
     "metadata": {},
     "output_type": "execute_result"
    }
   ],
   "source": [
    "data.shape"
   ]
  },
  {
   "cell_type": "code",
   "execution_count": 4,
   "metadata": {},
   "outputs": [
    {
     "data": {
      "image/png": "[encoded data removed]",
      "text/plain": [
       "<Figure size 432x288 with 1 Axes>"
      ]
     },
     "metadata": {},
     "output_type": "display_data"
    }
   ],
   "source": [
    "importlib.reload(vis)\n",
    "\n",
    "vis.sketchplot(data)"
   ]
  },
  {
   "cell_type": "code",
   "execution_count": 25,
   "metadata": {},
   "outputs": [
    {
     "data": {
      "text/html": [
       "<table border=\"1\" class=\"dataframe\">\n",
       "  <thead>\n",
       "    <tr style=\"text-align: right;\">\n",
       "      <th></th>\n",
       "      <th>countrycode</th>\n",
       "      <th>drawing</th>\n",
       "      <th>word</th>\n",
       "    </tr>\n",
       "  </thead>\n",
       "  <tbody>\n",
       "    <tr>\n",
       "      <th>0</th>\n",
       "      <td>NZ</td>\n",
       "      <td>[[[1, 2, 25, 28, 42, 64, 62, 49, 37, 30, 24, 1...</td>\n",
       "      <td>candle</td>\n",
       "    </tr>\n",
       "    <tr>\n",
       "      <th>1</th>\n",
       "      <td>GB</td>\n",
       "      <td>[[[180, 131, 73, 40, 1, 5, 24, 189, 253, 254, ...</td>\n",
       "      <td>airplane</td>\n",
       "    </tr>\n",
       "    <tr>\n",
       "      <th>2</th>\n",
       "      <td>NL</td>\n",
       "      <td>[[[52, 66, 76, 91, 111, 141, 153, 169, 202, 20...</td>\n",
       "      <td>cat</td>\n",
       "    </tr>\n",
       "    <tr>\n",
       "      <th>3</th>\n",
       "      <td>US</td>\n",
       "      <td>[[[2, 57, 138, 250], [5, 0, 4, 2]], [[0, 0, 4,...</td>\n",
       "      <td>belt</td>\n",
       "    </tr>\n",
       "    <tr>\n",
       "      <th>4</th>\n",
       "      <td>NL</td>\n",
       "      <td>[[[145, 154, 169, 176, 183, 187, 213, 234, 254...</td>\n",
       "      <td>cat</td>\n",
       "    </tr>\n",
       "  </tbody>\n",
       "</table>"
      ],
      "text/plain": [
       "<IPython.core.display.HTML object>"
      ]
     },
     "metadata": {},
     "output_type": "display_data"
    },
    {
     "data": {
      "image/png": "[encoded data removed]",
      "text/plain": [
       "<Figure size 432x288 with 1 Axes>"
      ]
     },
     "metadata": {},
     "output_type": "display_data"
    }
   ],
   "source": [
    "importlib.reload(vis)\n",
    "\n",
    "data_folder = \"data/simplified/\"\n",
    "access_file_generator = map(lambda x : data_folder + x + '.csv', load.classes)\n",
    "gen = vis.ImageGenerator(access_file_generator)"
   ]
  },
  {
   "cell_type": "code",
   "execution_count": 26,
   "metadata": {},
   "outputs": [
    {
     "name": "stdout",
     "output_type": "stream",
     "text": [
      "img.shape: (128, 450, 450, 4)\n",
      "wrd.shape: (128, 10)\n"
     ]
    },
    {
     "data": {
      "image/png": "[encoded data removed]",
      "text/plain": [
       "<Figure size 432x288 with 1 Axes>"
      ]
     },
     "metadata": {},
     "output_type": "display_data"
    }
   ],
   "source": [
    "%matplotlib inline\n",
    "img, wrd = gen[50]\n",
    "print('img.shape:', img.shape)\n",
    "print('wrd.shape:', wrd.shape)"
   ]
  },
  {
   "cell_type": "code",
   "execution_count": 27,
   "metadata": {},
   "outputs": [
    {
     "name": "stdout",
     "output_type": "stream",
     "text": [
      "_________________________________________________________________\n",
      "Layer (type)                 Output Shape              Param #   \n",
      "=================================================================\n",
      "batch_normalization_37 (Batc (None, 450, 450, 4)       16        \n",
      "_________________________________________________________________\n",
      "conv2d_38 (Conv2D)           (None, 222, 222, 32)      6304      \n",
      "_________________________________________________________________\n",
      "conv2d_39 (Conv2D)           (None, 108, 108, 32)      50208     \n",
      "_________________________________________________________________\n",
      "activation_46 (Activation)   (None, 108, 108, 32)      0         \n",
      "_________________________________________________________________\n",
      "dropout_28 (Dropout)         (None, 108, 108, 32)      0         \n",
      "_________________________________________________________________\n",
      "batch_normalization_38 (Batc (None, 108, 108, 32)      128       \n",
      "_________________________________________________________________\n",
      "conv2d_40 (Conv2D)           (None, 52, 52, 64)        51264     \n",
      "_________________________________________________________________\n",
      "conv2d_41 (Conv2D)           (None, 24, 24, 64)        102464    \n",
      "_________________________________________________________________\n",
      "activation_47 (Activation)   (None, 24, 24, 64)        0         \n",
      "_________________________________________________________________\n",
      "dropout_29 (Dropout)         (None, 24, 24, 64)        0         \n",
      "_________________________________________________________________\n",
      "batch_normalization_39 (Batc (None, 24, 24, 64)        256       \n",
      "_________________________________________________________________\n",
      "conv2d_42 (Conv2D)           (None, 11, 11, 64)        36928     \n",
      "_________________________________________________________________\n",
      "average_pooling2d_6 (Average (None, 5, 5, 64)          0         \n",
      "_________________________________________________________________\n",
      "activation_48 (Activation)   (None, 5, 5, 64)          0         \n",
      "_________________________________________________________________\n",
      "dropout_30 (Dropout)         (None, 5, 5, 64)          0         \n",
      "_________________________________________________________________\n",
      "batch_normalization_40 (Batc (None, 5, 5, 64)          256       \n",
      "_________________________________________________________________\n",
      "flatten_10 (Flatten)         (None, 1600)              0         \n",
      "_________________________________________________________________\n",
      "dense_19 (Dense)             (None, 512)               819712    \n",
      "_________________________________________________________________\n",
      "activation_49 (Activation)   (None, 512)               0         \n",
      "_________________________________________________________________\n",
      "dense_20 (Dense)             (None, 10)                5130      \n",
      "_________________________________________________________________\n",
      "activation_50 (Activation)   (None, 10)                0         \n",
      "=================================================================\n",
      "Total params: 1,072,666\n",
      "Trainable params: 1,072,338\n",
      "Non-trainable params: 328\n",
      "_________________________________________________________________\n"
     ]
    }
   ],
   "source": [
    "importlib.reload(models)\n",
    "\n",
    "model = models.DoodleConv1((*gen.imsize,4), gen.n_classes)\n",
    "model.compile(optimizer='adam', loss='categorical_crossentropy')\n",
    "model.summary()"
   ]
  },
  {
   "cell_type": "code",
   "execution_count": null,
   "metadata": {},
   "outputs": [
    {
     "name": "stdout",
     "output_type": "stream",
     "text": [
      "Epoch 1/1\n"
     ]
    }
   ],
   "source": [
    "model.fit_generator(generator=gen)"
   ]
  },
  {
   "cell_type": "code",
   "execution_count": null,
   "metadata": {},
   "outputs": [],
   "source": []
  }
 ],
 "metadata": {
  "kernelspec": {
   "display_name": "Python 3",
   "language": "python",
   "name": "python3"
  },
  "language_info": {
   "codemirror_mode": {
    "name": "ipython",
    "version": 3
   },
   "file_extension": ".py",
   "mimetype": "text/x-python",
   "name": "python",
   "nbconvert_exporter": "python",
   "pygments_lexer": "ipython3",
   "version": "3.6.4"
  }
 },
 "nbformat": 4,
 "nbformat_minor": 2
}
