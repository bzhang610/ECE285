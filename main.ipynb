{
 "cells": [
  {
   "cell_type": "code",
   "execution_count": 1,
   "metadata": {},
   "outputs": [
    {
     "name": "stderr",
     "output_type": "stream",
     "text": [
      "/Library/Frameworks/Python.framework/Versions/3.6/lib/python3.6/site-packages/h5py/__init__.py:36: FutureWarning: Conversion of the second argument of issubdtype from `float` to `np.floating` is deprecated. In future, it will be treated as `np.float64 == np.dtype(float).type`.\n",
      "  from ._conv import register_converters as _register_converters\n",
      "Using TensorFlow backend.\n"
     ]
    }
   ],
   "source": [
    "import os, sys\n",
    "import importlib\n",
    "import torch\n",
    "\n",
    "import numpy as np\n",
    "\n",
    "from utils import load, vis"
   ]
  },
  {
   "cell_type": "code",
   "execution_count": 2,
   "metadata": {},
   "outputs": [],
   "source": [
    "importlib.reload(vis)\n",
    "\n",
    "data_folder = \"data/simplified/\"\n",
    "access_file_generator = map(lambda x : data_folder + x + '.csv', load.classes)\n",
    "trainGenerator = vis.ImageGenerator(access_file_generator)"
   ]
  },
  {
   "cell_type": "code",
   "execution_count": 3,
   "metadata": {},
   "outputs": [],
   "source": [
    "gen = trainGenerator.generateImages()"
   ]
  },
  {
   "cell_type": "code",
   "execution_count": 4,
   "metadata": {},
   "outputs": [
    {
     "name": "stdout",
     "output_type": "stream",
     "text": [
      "X.shape: (128, 64, 64, 4)\n",
      "y.shape: (128, 8)\n"
     ]
    },
    {
     "data": {
      "image/png": "[encoded data removed]",
      "text/plain": [
       "<Figure size 432x288 with 1 Axes>"
      ]
     },
     "metadata": {},
     "output_type": "display_data"
    }
   ],
   "source": [
    "%matplotlib inline\n",
    "X, y = next(gen)\n",
    "print('X.shape:', X.shape)\n",
    "print('y.shape:', y.shape)"
   ]
  },
  {
   "cell_type": "code",
   "execution_count": 5,
   "metadata": {},
   "outputs": [
    {
     "data": {
      "text/plain": [
       "array([0., 0., 0., 0., 0., 1., 0., 0.])"
      ]
     },
     "execution_count": 5,
     "metadata": {},
     "output_type": "execute_result"
    },
    {
     "data": {
      "image/png": "[encoded data removed]",
      "text/plain": [
       "<Figure size 432x288 with 1 Axes>"
      ]
     },
     "metadata": {},
     "output_type": "display_data"
    }
   ],
   "source": [
    "import matplotlib.pyplot as plt\n",
    "plt.imshow(X[0].astype(int))\n",
    "y[0]"
   ]
  },
  {
   "cell_type": "markdown",
   "metadata": {},
   "source": [
    "# Building PyTorch CNN Model"
   ]
  },
  {
   "cell_type": "code",
   "execution_count": 6,
   "metadata": {},
   "outputs": [],
   "source": [
    "import torch.nn as nn\n",
    "import torch.nn.functional as F\n",
    "import torch.autograd as ag\n",
    "import torch.optim as optim\n",
    "\n",
    "\n",
    "class LeNet(nn.Module):\n",
    "    # Here we define our network structure\n",
    "    def __init__(self, cdim=8):\n",
    "        super(LeNet, self).__init__()\n",
    "        self.conv1 = nn.Conv2d(4, 6, 3).double() \n",
    "        self.conv2 = nn.Conv2d(6,16, 3).double()\n",
    "        self.conv3 = nn.Conv2d(16,32,3).double()\n",
    "        self.conv4 = nn.Conv2d(32,64,3).double()\n",
    "        self.fc1   = nn.Linear(256,128).double()\n",
    "        self.fc2   = nn.Linear(128, 84).double() \n",
    "        self.fc3   = nn.Linear(84,cdim).double()\n",
    "        \n",
    "    # Here we define one forward pass through the network\n",
    "    def forward(self, x):\n",
    "        x = F.max_pool2d(F.relu(self.conv1(x)), (2, 2))\n",
    "        x = F.max_pool2d(F.relu(self.conv2(x)), (2, 2))\n",
    "        x = F.max_pool2d(F.relu(self.conv3(x)), (2, 2))\n",
    "        x = F.max_pool2d(F.relu(self.conv4(x)), (2, 2))\n",
    "        x = x.view(-1, int(self.num_flat_features(x)))\n",
    "        x = F.relu(self.fc1(x))\n",
    "        x = F.relu(self.fc2(x))\n",
    "        x = self.fc3(x)\n",
    "        return x\n",
    "    \n",
    "    # Determine the number of features in a batch of tensors\n",
    "    def num_flat_features(self, x): \n",
    "        size = x.size()\n",
    "        return np.prod(size[1:])\n",
    "\n",
    "\n",
    "net = LeNet(cdim=y.shape[1])"
   ]
  },
  {
   "cell_type": "code",
   "execution_count": 7,
   "metadata": {},
   "outputs": [
    {
     "name": "stdout",
     "output_type": "stream",
     "text": [
      "Classification Accuracy on Initialized LeNet = 12.5%\n"
     ]
    }
   ],
   "source": [
    "xtest = ag.Variable(torch.from_numpy(np.moveaxis(X, [-1], [1])), requires_grad=False)\n",
    "ypred = net(xtest)\n",
    "acc   = 100 * np.mean(np.argmax(y,1) == ypred.data.numpy().T.argmax(axis=0))\n",
    "print('Classification Accuracy on Initialized LeNet = {0:.3}%'.format(acc))"
   ]
  },
  {
   "cell_type": "code",
   "execution_count": 8,
   "metadata": {},
   "outputs": [],
   "source": [
    "B     = 128              # Minibatch size\n",
    "T     = 10               # Number of epochs\n",
    "gamma = .001             # learning rate\n",
    "rho   = .9               # momentum\n",
    "\n",
    "criterion = nn.CrossEntropyLoss()\n",
    "optimizer = torch.optim.SGD(\n",
    "    net.parameters(),\n",
    "    lr=gamma,\n",
    "    momentum=rho\n",
    ")"
   ]
  },
  {
   "cell_type": "code",
   "execution_count": null,
   "metadata": {},
   "outputs": [
    {
     "name": "stdout",
     "output_type": "stream",
     "text": [
      "[1,    10] loss: 1.929\t acc: 19.5\n",
      "[1,    20] loss: 2.054\t acc: 21.9\n",
      "[1,    30] loss: 1.997\t acc: 28.1\n",
      "[1,    40] loss: 1.940\t acc: 36.7\n",
      "[1,    50] loss: 1.833\t acc: 39.1\n",
      "[1,    60] loss: 1.700\t acc: 37.5\n",
      "[1,    70] loss: 1.566\t acc: 45.3\n",
      "[1,    80] loss: 1.444\t acc: 60.9\n",
      "[1,    90] loss: 1.318\t acc: 50.0\n",
      "[1,   100] loss: 1.329\t acc: 53.1\n",
      "[1,   110] loss: 1.296\t acc: 62.5\n",
      "[1,   120] loss: 1.173\t acc: 56.2\n",
      "[1,   130] loss: 1.171\t acc: 64.8\n",
      "[1,   140] loss: 1.056\t acc: 70.3\n",
      "[1,   150] loss: 1.016\t acc: 65.6\n",
      "[1,   160] loss: 1.038\t acc: 60.9\n",
      "[1,   170] loss: 0.963\t acc: 75.8\n",
      "[1,   180] loss: 0.934\t acc: 62.5\n",
      "[1,   190] loss: 0.976\t acc: 66.4\n",
      "[1,   200] loss: 0.976\t acc: 74.2\n",
      "[1,   210] loss: 0.932\t acc: 69.5\n",
      "[1,   220] loss: 0.940\t acc: 65.6\n",
      "[1,   230] loss: 0.931\t acc: 71.9\n",
      "[1,   240] loss: 0.869\t acc: 76.6\n",
      "[1,   250] loss: 0.858\t acc: 73.4\n",
      "[1,   260] loss: 0.861\t acc: 76.6\n",
      "[1,   270] loss: 0.885\t acc: 75.8\n"
     ]
    }
   ],
   "source": [
    "if torch.cuda.is_available():\n",
    "    net = net.cuda()\n",
    "\n",
    "    \n",
    "accList, lossList = list(), list()\n",
    "for epoch in range(T):\n",
    "    running_loss, k   = 0.0, 0\n",
    "    for X,y in trainGenerator.generateImages():\n",
    "        inputs = ag.Variable(torch.from_numpy(np.moveaxis(X, [-1], [1])), requires_grad=False)\n",
    "        labels = ag.Variable(torch.from_numpy(np.argmax(y, 1)), requires_grad=False)\n",
    "        \n",
    "        if torch.cuda.is_available():\n",
    "            inputs  = inputs.cuda()\n",
    "            labels  = labels.cuda()\n",
    "        \n",
    "        # Initialize the gradiaent to zero\n",
    "        optimizer.zero_grad()\n",
    "        output = net(inputs)\n",
    "        loss   = criterion(output, labels)\n",
    "        loss.backward()\n",
    "        optimizer.step()\n",
    "        \n",
    "        running_loss += loss[0]\n",
    "        k += 1\n",
    "        if k % 10 == 9:\n",
    "            ypred = net(inputs)\n",
    "            acc   = 100 * np.mean(np.argmax(y,1) == ypred.data.numpy().T.argmax(axis=0))\n",
    "            print('[%d, %5d] loss: %.3f\\t acc: %.1f' % (epoch + 1, k + 1, running_loss/10, acc))\n",
    "            accList.append(acc)\n",
    "            lossList.append(running_loss/10)\n",
    "            running_loss = 0.0\n",
    "            \n",
    "\n",
    "print('Finished Training')"
   ]
  },
  {
   "cell_type": "code",
   "execution_count": null,
   "metadata": {},
   "outputs": [],
   "source": []
  }
 ],
 "metadata": {
  "kernelspec": {
   "display_name": "Python 3",
   "language": "python",
   "name": "python3"
  },
  "language_info": {
   "codemirror_mode": {
    "name": "ipython",
    "version": 3
   },
   "file_extension": ".py",
   "mimetype": "text/x-python",
   "name": "python",
   "nbconvert_exporter": "python",
   "pygments_lexer": "ipython3",
   "version": "3.6.4"
  }
 },
 "nbformat": 4,
 "nbformat_minor": 2
}
