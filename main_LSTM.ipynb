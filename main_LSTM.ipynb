{
 "cells": [
  {
   "cell_type": "code",
   "execution_count": 1,
   "metadata": {},
   "outputs": [
    {
     "name": "stderr",
     "output_type": "stream",
     "text": [
      "Using TensorFlow backend.\n",
      "/opt/conda/lib/python3.6/importlib/_bootstrap.py:219: RuntimeWarning: compiletime version 3.5 of module 'tensorflow.python.framework.fast_tensor_util' does not match runtime version 3.6\n",
      "  return f(*args, **kwds)\n"
     ]
    }
   ],
   "source": [
    "import os, sys\n",
    "import importlib\n",
    "\n",
    "from utils import load, vis, models, models_LSTM, process"
   ]
  },
  {
   "cell_type": "code",
   "execution_count": 2,
   "metadata": {},
   "outputs": [],
   "source": [
    "#importlib.reload(vis)\n",
    "data_folder = \"data/simplified/\"\n",
    "#access_file_generator = map(lambda x : data_folder + x + '.csv', load.classes)\n",
    "afg2 = map(lambda x : data_folder + x + '.csv', load.classes)"
   ]
  },
  {
   "cell_type": "code",
   "execution_count": 3,
   "metadata": {},
   "outputs": [],
   "source": [
    "batch_size = 4\n",
    "steps = int(10 * 16/batch_size)\n",
    "test_size = int(1000*16/batch_size)"
   ]
  },
  {
   "cell_type": "code",
   "execution_count": 4,
   "metadata": {},
   "outputs": [],
   "source": [
    "data = process.SeqGenerator(afg2,100,batch_size)\n",
    "gen2 = data.generateSeq()"
   ]
  },
  {
   "cell_type": "code",
   "execution_count": null,
   "metadata": {},
   "outputs": [],
   "source": [
    "importlib.reload(models_LSTM)\n",
    "\n",
    "model2 = models_LSTM.DoodleLSTM((None,3), data.n_classes)\n",
    "model2.compile(optimizer = 'adam', loss = 'categorical_crossentropy',metrics=['accuracy'])\n",
    "model2.summary()"
   ]
  },
  {
   "cell_type": "code",
   "execution_count": null,
   "metadata": {},
   "outputs": [],
   "source": [
    "history = model2.fit_generator(generator=gen2, epochs=640, steps_per_epoch=steps)"
   ]
  },
  {
   "cell_type": "code",
   "execution_count": null,
   "metadata": {},
   "outputs": [],
   "source": [
    "model2.evaluate_generator(generator = gen2, steps = test_size)"
   ]
  },
  {
   "cell_type": "code",
   "execution_count": null,
   "metadata": {},
   "outputs": [],
   "source": [
    "# serialize model to JSON\n",
    "model_json = model2.to_json()\n",
    "with open(\"modelLSTM_16dp1.json\", \"w\") as json_file:\n",
    "    json_file.write(model_json)\n",
    "# serialize weights to HDF5\n",
    "model2.save_weights(\"modelLSTM_16dp1.h5\")\n",
    "print(\"Saved model to disk\")"
   ]
  },
  {
   "cell_type": "code",
   "execution_count": null,
   "metadata": {},
   "outputs": [],
   "source": [
    "import json\n",
    "with open('16dp1_history.json', 'w') as f:\n",
    "    json.dump(history.history, f)"
   ]
  },
  {
   "cell_type": "code",
   "execution_count": null,
   "metadata": {},
   "outputs": [],
   "source": [
    "import matplotlib.pyplot as plt\n",
    "plt.plot(history.history['acc'])\n",
    "plt.title('model accuracy')\n",
    "plt.ylabel('accuracy')\n",
    "plt.xlabel('epoch')\n",
    "plt.savefig('32vanilla_acc')\n",
    "plt.show()\n"
   ]
  },
  {
   "cell_type": "code",
   "execution_count": null,
   "metadata": {},
   "outputs": [],
   "source": [
    "# summarize history for loss\n",
    "plt.plot(history.history['loss'])\n",
    "plt.title('model loss')\n",
    "plt.ylabel('loss')\n",
    "plt.xlabel('epoch')\n",
    "plt.savefig('32vanilla_loss')\n",
    "plt.show()"
   ]
  },
  {
   "cell_type": "code",
   "execution_count": null,
   "metadata": {},
   "outputs": [],
   "source": [
    "for layer in loaded_model.layers[:10]:\n",
    "    layer.trainable = False"
   ]
  },
  {
   "cell_type": "code",
   "execution_count": 5,
   "metadata": {},
   "outputs": [
    {
     "name": "stdout",
     "output_type": "stream",
     "text": [
      "Loaded model from disk\n"
     ]
    }
   ],
   "source": [
    "from keras.models import model_from_json\n",
    "# load json and create model\n",
    "json_file = open('modelLSTM_32dp1.json', 'r')\n",
    "loaded_model_json = json_file.read()\n",
    "json_file.close()\n",
    "loaded_model = model_from_json(loaded_model_json)\n",
    "# load weights into new model\n",
    "loaded_model.load_weights(\"modelLSTM_32dp1.h5\")\n",
    "print(\"Loaded model from disk\")"
   ]
  },
  {
   "cell_type": "code",
   "execution_count": 6,
   "metadata": {},
   "outputs": [
    {
     "name": "stdout",
     "output_type": "stream",
     "text": [
      "_________________________________________________________________\n",
      "Layer (type)                 Output Shape              Param #   \n",
      "=================================================================\n",
      "batch_normalization_1 (Batch (None, None, 3)           12        \n",
      "_________________________________________________________________\n",
      "conv1d_1 (Conv1D)            (None, None, 48)          768       \n",
      "_________________________________________________________________\n",
      "dropout_1 (Dropout)          (None, None, 48)          0         \n",
      "_________________________________________________________________\n",
      "conv1d_2 (Conv1D)            (None, None, 64)          15424     \n",
      "_________________________________________________________________\n",
      "dropout_2 (Dropout)          (None, None, 64)          0         \n",
      "_________________________________________________________________\n",
      "conv1d_3 (Conv1D)            (None, None, 96)          18528     \n",
      "_________________________________________________________________\n",
      "dropout_3 (Dropout)          (None, None, 96)          0         \n",
      "_________________________________________________________________\n",
      "cu_dnnlstm_1 (CuDNNLSTM)     (None, None, 128)         115712    \n",
      "_________________________________________________________________\n",
      "dropout_4 (Dropout)          (None, None, 128)         0         \n",
      "_________________________________________________________________\n",
      "cu_dnnlstm_2 (CuDNNLSTM)     (None, 512)               1314816   \n",
      "_________________________________________________________________\n",
      "dropout_5 (Dropout)          (None, 512)               0         \n",
      "_________________________________________________________________\n",
      "dense_1 (Dense)              (None, 128)               65664     \n",
      "_________________________________________________________________\n",
      "dropout_6 (Dropout)          (None, 128)               0         \n",
      "_________________________________________________________________\n",
      "dense_2 (Dense)              (None, 32)                4128      \n",
      "=================================================================\n",
      "Total params: 1,535,052\n",
      "Trainable params: 1,535,046\n",
      "Non-trainable params: 6\n",
      "_________________________________________________________________\n"
     ]
    }
   ],
   "source": [
    "loaded_model.compile(optimizer = 'adam', loss = 'categorical_crossentropy',metrics=['accuracy'])\n",
    "loaded_model.summary()"
   ]
  },
  {
   "cell_type": "code",
   "execution_count": null,
   "metadata": {},
   "outputs": [],
   "source": [
    "loaded_model.fit_generator(generator=gen2, epochs=200, steps_per_epoch=10)"
   ]
  },
  {
   "cell_type": "code",
   "execution_count": null,
   "metadata": {},
   "outputs": [],
   "source": [
    "loaded_model.evaluate(x_test,y_test,verbose = 0)"
   ]
  },
  {
   "cell_type": "code",
   "execution_count": 1,
   "metadata": {},
   "outputs": [],
   "source": [
    "import pandas as pd\n",
    "import matplotlib.pyplot as plt"
   ]
  },
  {
   "cell_type": "code",
   "execution_count": 2,
   "metadata": {},
   "outputs": [
    {
     "data": {
      "image/png": "[encoded data removed]",
      "text/plain": [
       "<Figure size 432x288 with 1 Axes>"
      ]
     },
     "metadata": {},
     "output_type": "display_data"
    }
   ],
   "source": [
    "loaded_history = pd.read_json('16vanilla_history.json')\n",
    "loaded_history2 = pd.read_json('16dp1_history.json')\n",
    "#loaded_history3 = pd.read_json('8vanilla_history.json')\n",
    "plt.plot(loaded_history['acc'])\n",
    "plt.plot(loaded_history2['acc'])\n",
    "#plt.plot(loaded_history3['acc'])\n",
    "#plt.axhline(y=0.94, color='b', linestyle='--')\n",
    "plot_name = 'Vanilla stacked vs CONV LSTM'\n",
    "plt.title(plot_name + ' model accuracy')\n",
    "plt.ylabel('accuracy')\n",
    "plt.xlabel('epoch')\n",
    "plt.grid()\n",
    "#plt.legend(['32 classes (0.918 test accuracy)','16 classes (0.919 test accuracy)','8 classes (0.939 test acc)'])\n",
    "plt.legend(['Vanilla stacked LSTM','CONV LSTM'])\n",
    "plt.savefig('16_vs_acc')\n",
    "plt.show()\n",
    "#print(max(loaded_history['acc']))\n"
   ]
  },
  {
   "cell_type": "code",
   "execution_count": 3,
   "metadata": {},
   "outputs": [
    {
     "data": {
      "image/png": "[encoded data removed]",
      "text/plain": [
       "<Figure size 432x288 with 1 Axes>"
      ]
     },
     "metadata": {},
     "output_type": "display_data"
    }
   ],
   "source": [
    "plt.plot(loaded_history['loss'])\n",
    "plt.plot(loaded_history2['loss'])\n",
    "#plt.plot(loaded_history3['loss'])\n",
    "#plt.axhline(y=0.94, color='b', linestyle='--')\n",
    "plot_name = 'Vanilla stacked vs CONV LSTM'\n",
    "plt.title(plot_name + ' model loss')\n",
    "plt.ylabel('loss')\n",
    "plt.xlabel('epoch')\n",
    "plt.grid()\n",
    "#plt.legend(['32 classes','16 classes','8 classes'])\n",
    "plt.legend(['Vanilla stacked LSTM','CONV LSTM'])\n",
    "plt.savefig('16_vs_loss')\n",
    "plt.show()\n",
    "#print(max(loaded_history['acc']))"
   ]
  },
  {
   "cell_type": "code",
   "execution_count": 15,
   "metadata": {},
   "outputs": [],
   "source": [
    "## Generate correct and incorrect examples"
   ]
  },
  {
   "cell_type": "code",
   "execution_count": 10,
   "metadata": {},
   "outputs": [],
   "source": [
    "import numpy as np\n",
    "x_test,y_test = next(gen2)\n",
    "for i in range(99):\n",
    "    x,y = next(gen2)\n",
    "    x_test = np.concatenate((x_test,x),axis = 0)\n",
    "    y_test = np.concatenate((y_test,y),axis = 0)\n",
    "validate = (x_test,y_test)"
   ]
  },
  {
   "cell_type": "code",
   "execution_count": 20,
   "metadata": {},
   "outputs": [],
   "source": [
    "y_model = loaded_model.predict_classes(x_test)\n"
   ]
  },
  {
   "cell_type": "code",
   "execution_count": 27,
   "metadata": {},
   "outputs": [],
   "source": [
    "y_true = np.argmax(y_test,axis =1)"
   ]
  },
  {
   "cell_type": "code",
   "execution_count": 83,
   "metadata": {},
   "outputs": [],
   "source": [
    "count_cor = 0\n",
    "count_inc = 0\n",
    "correct = []\n",
    "incorrect = []\n",
    "lbl_cor = []\n",
    "inc_lbl_true = []\n",
    "inc_lbl_model = []\n",
    "idx = 0\n",
    "for i in range(y_model.shape[0]):\n",
    "    if y_model[i] == y_true[i]:\n",
    "        correct.append(i)\n",
    "        lbl_cor.append(y_model[i])\n",
    "        count_cor += 1\n",
    "    elif y_model[i] != y_true[i] and count_inc < 5:\n",
    "        incorrect.append(i)\n",
    "        inc_lbl_true.append(y_true[i])\n",
    "        inc_lbl_model.append(y_model[i])\n",
    "        count_inc += 1"
   ]
  },
  {
   "cell_type": "code",
   "execution_count": 54,
   "metadata": {},
   "outputs": [],
   "source": [
    "# classes used\n",
    "classes_1 = [\"airplane\",\"angel\",\"basket\",\"bear\",\"belt\",\"candle\",\"crown\",\"cat\"]\n",
    "classes_2 = ['bee','crab','drums','elephant','hospital','mouse','onion','tree']\n",
    "classes_3 = ['book', 'camel', 'camera', 'carrot', 'matches', 'microwave', 'nose', 'toaster']\n",
    "classes_4 = ['apple','cloud', 'dresser', 'drill','mug', 'pool', 'submarine', 'toilet']\n",
    "classes = classes_1 + classes_2 + classes_3 + classes_4"
   ]
  },
  {
   "cell_type": "code",
   "execution_count": null,
   "metadata": {},
   "outputs": [],
   "source": [
    "import matplotlib.pyplot as plt\n",
    "def sketchplot(data,row):\n",
    "    xy = data[row]\n",
    "    x = xy[:,0]\n",
    "    y = xy[:,1]\n",
    "    return x,y"
   ]
  },
  {
   "cell_type": "code",
   "execution_count": 89,
   "metadata": {},
   "outputs": [
    {
     "data": {
      "image/png": "[encoded data removed]",
      "text/plain": [
       "<Figure size 432x288 with 1 Axes>"
      ]
     },
     "metadata": {},
     "output_type": "display_data"
    }
   ],
   "source": [
    "# Plot correct examples\n",
    "idx = 6\n",
    "true = classes[lbl_cor[idx]]\n",
    "x,y = sketchplot(x_test,correct[idx])\n",
    "plt.plot(x, y, marker='.')\n",
    "plt.title('True/Classified label = ' + true)\n",
    "plt.axis('off')\n",
    "plt.savefig('Correct_'+true)"
   ]
  },
  {
   "cell_type": "code",
   "execution_count": 78,
   "metadata": {},
   "outputs": [
    {
     "data": {
      "image/png": "[encoded data removed]",
      "text/plain": [
       "<Figure size 432x288 with 1 Axes>"
      ]
     },
     "metadata": {},
     "output_type": "display_data"
    }
   ],
   "source": [
    "# Plot incorrect examples\n",
    "idx = 4\n",
    "true = classes[inc_lbl_true[idx]]\n",
    "our_model = classes[inc_lbl_model[idx]]\n",
    "x,y = sketchplot(x_test,incorrect[idx])\n",
    "plt.plot(x, y, marker='.')\n",
    "plt.title('True label = ' + true+'; Classified as '+our_model)\n",
    "plt.axis('off')\n",
    "plt.savefig('should_be_'+true+'_but_'+our_model)"
   ]
  },
  {
   "cell_type": "code",
   "execution_count": null,
   "metadata": {},
   "outputs": [],
   "source": []
  }
 ],
 "metadata": {
  "kernelspec": {
   "display_name": "Python 3",
   "language": "python",
   "name": "python3"
  },
  "language_info": {
   "codemirror_mode": {
    "name": "ipython",
    "version": 3
   },
   "file_extension": ".py",
   "mimetype": "text/x-python",
   "name": "python",
   "nbconvert_exporter": "python",
   "pygments_lexer": "ipython3",
   "version": "3.6.4"
  }
 },
 "nbformat": 4,
 "nbformat_minor": 2
}
