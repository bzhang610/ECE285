{
 "cells": [
  {
   "cell_type": "code",
   "execution_count": 1,
   "metadata": {},
   "outputs": [
    {
     "name": "stderr",
     "output_type": "stream",
     "text": [
      "Using TensorFlow backend.\n",
      "/opt/conda/lib/python3.6/importlib/_bootstrap.py:219: RuntimeWarning: compiletime version 3.5 of module 'tensorflow.python.framework.fast_tensor_util' does not match runtime version 3.6\n",
      "  return f(*args, **kwds)\n"
     ]
    }
   ],
   "source": [
    "import os, sys\n",
    "import importlib\n",
    "\n",
    "from utils import load, vis, models, models_LSTM, process"
   ]
  },
  {
   "cell_type": "code",
   "execution_count": 2,
   "metadata": {},
   "outputs": [],
   "source": [
    "data_folder = \"data/simplified/\"\n",
    "afg2 = map(lambda x : data_folder + x + '.csv', load.classes)"
   ]
  },
  {
   "cell_type": "code",
   "execution_count": 3,
   "metadata": {},
   "outputs": [],
   "source": [
    "# Set training and test sets size\n",
    "batch_size = 4\n",
    "steps = int(10 * 16/batch_size)\n",
    "test_size = int(1000*16/batch_size)"
   ]
  },
  {
   "cell_type": "code",
   "execution_count": 4,
   "metadata": {},
   "outputs": [],
   "source": [
    "# initialize generator\n",
    "data = process.SeqGenerator(afg2,100,batch_size)\n",
    "gen2 = data.generateSeq()"
   ]
  },
  {
   "cell_type": "code",
   "execution_count": 5,
   "metadata": {},
   "outputs": [
    {
     "name": "stdout",
     "output_type": "stream",
     "text": [
      "Loaded model from disk\n"
     ]
    }
   ],
   "source": [
    "from keras.models import model_from_json\n",
    "# load json and create model\n",
    "json_file = open('modelLSTM_32dp1.json', 'r')\n",
    "loaded_model_json = json_file.read()\n",
    "json_file.close()\n",
    "loaded_model = model_from_json(loaded_model_json)\n",
    "# load weights into new model\n",
    "loaded_model.load_weights(\"modelLSTM_32dp1.h5\")\n",
    "print(\"Loaded model from disk\")"
   ]
  },
  {
   "cell_type": "code",
   "execution_count": 6,
   "metadata": {},
   "outputs": [
    {
     "name": "stdout",
     "output_type": "stream",
     "text": [
      "_________________________________________________________________\n",
      "Layer (type)                 Output Shape              Param #   \n",
      "=================================================================\n",
      "batch_normalization_1 (Batch (None, None, 3)           12        \n",
      "_________________________________________________________________\n",
      "conv1d_1 (Conv1D)            (None, None, 48)          768       \n",
      "_________________________________________________________________\n",
      "dropout_1 (Dropout)          (None, None, 48)          0         \n",
      "_________________________________________________________________\n",
      "conv1d_2 (Conv1D)            (None, None, 64)          15424     \n",
      "_________________________________________________________________\n",
      "dropout_2 (Dropout)          (None, None, 64)          0         \n",
      "_________________________________________________________________\n",
      "conv1d_3 (Conv1D)            (None, None, 96)          18528     \n",
      "_________________________________________________________________\n",
      "dropout_3 (Dropout)          (None, None, 96)          0         \n",
      "_________________________________________________________________\n",
      "cu_dnnlstm_1 (CuDNNLSTM)     (None, None, 128)         115712    \n",
      "_________________________________________________________________\n",
      "dropout_4 (Dropout)          (None, None, 128)         0         \n",
      "_________________________________________________________________\n",
      "cu_dnnlstm_2 (CuDNNLSTM)     (None, 512)               1314816   \n",
      "_________________________________________________________________\n",
      "dropout_5 (Dropout)          (None, 512)               0         \n",
      "_________________________________________________________________\n",
      "dense_1 (Dense)              (None, 128)               65664     \n",
      "_________________________________________________________________\n",
      "dropout_6 (Dropout)          (None, 128)               0         \n",
      "_________________________________________________________________\n",
      "dense_2 (Dense)              (None, 32)                4128      \n",
      "=================================================================\n",
      "Total params: 1,535,052\n",
      "Trainable params: 1,535,046\n",
      "Non-trainable params: 6\n",
      "_________________________________________________________________\n"
     ]
    }
   ],
   "source": [
    "# compile model\n",
    "loaded_model.compile(optimizer = 'adam', loss = 'categorical_crossentropy',metrics=['accuracy'])\n",
    "loaded_model.summary()"
   ]
  },
  {
   "cell_type": "code",
   "execution_count": 7,
   "metadata": {},
   "outputs": [],
   "source": [
    "import pandas as pd\n",
    "import matplotlib.pyplot as plt"
   ]
  },
  {
   "cell_type": "code",
   "execution_count": 8,
   "metadata": {},
   "outputs": [],
   "source": [
    "import numpy as np\n",
    "x_test,y_test = next(gen2)\n",
    "for i in range(99):\n",
    "    x,y = next(gen2)\n",
    "    x_test = np.concatenate((x_test,x),axis = 0)\n",
    "    y_test = np.concatenate((y_test,y),axis = 0)\n",
    "validate = (x_test,y_test)"
   ]
  },
  {
   "cell_type": "code",
   "execution_count": 9,
   "metadata": {},
   "outputs": [],
   "source": [
    "# True Labels\n",
    "y_true = np.argmax(y_test,axis =1)\n",
    "# Test results\n",
    "y_model = loaded_model.predict_classes(x_test)"
   ]
  },
  {
   "cell_type": "code",
   "execution_count": 10,
   "metadata": {},
   "outputs": [],
   "source": [
    "# Storing correct and incorrect classification results\n",
    "count_cor = 0\n",
    "count_inc = 0\n",
    "correct = []\n",
    "incorrect = []\n",
    "lbl_cor = []\n",
    "inc_lbl_true = []\n",
    "inc_lbl_model = []\n",
    "idx = 0\n",
    "for i in range(y_model.shape[0]):\n",
    "    if y_model[i] == y_true[i]:\n",
    "        correct.append(i)\n",
    "        lbl_cor.append(y_model[i])\n",
    "        count_cor += 1\n",
    "    elif y_model[i] != y_true[i] and count_inc < 5:\n",
    "        incorrect.append(i)\n",
    "        inc_lbl_true.append(y_true[i])\n",
    "        inc_lbl_model.append(y_model[i])\n",
    "        count_inc += 1"
   ]
  },
  {
   "cell_type": "code",
   "execution_count": 11,
   "metadata": {},
   "outputs": [],
   "source": [
    "# classes used\n",
    "classes_1 = [\"airplane\",\"angel\",\"basket\",\"bear\",\"belt\",\"candle\",\"crown\",\"cat\"]\n",
    "classes_2 = ['bee','crab','drums','elephant','hospital','mouse','onion','tree']\n",
    "classes_3 = ['book', 'camel', 'camera', 'carrot', 'matches', 'microwave', 'nose', 'toaster']\n",
    "classes_4 = ['apple','cloud', 'dresser', 'drill','mug', 'pool', 'submarine', 'toilet']\n",
    "classes = classes_1 + classes_2 + classes_3 + classes_4"
   ]
  },
  {
   "cell_type": "code",
   "execution_count": 12,
   "metadata": {},
   "outputs": [],
   "source": [
    "def sketchplot(data,row):\n",
    "    xy = data[row]\n",
    "    x = xy[:,0]\n",
    "    y = xy[:,1]\n",
    "    return x,y"
   ]
  },
  {
   "cell_type": "code",
   "execution_count": 24,
   "metadata": {},
   "outputs": [
    {
     "data": {
      "image/png": "[encoded data removed]",
      "text/plain": [
       "<Figure size 432x288 with 1 Axes>"
      ]
     },
     "metadata": {},
     "output_type": "display_data"
    }
   ],
   "source": [
    "# Plot correct examples\n",
    "idx = 5\n",
    "true = classes[lbl_cor[idx]]\n",
    "x,y = sketchplot(x_test,correct[idx])\n",
    "plt.plot(x, -y, marker='.')\n",
    "plt.title('True/Classified label = ' + true)\n",
    "plt.axis('off')\n",
    "plt.savefig('Correct_'+true)"
   ]
  },
  {
   "cell_type": "code",
   "execution_count": 20,
   "metadata": {},
   "outputs": [
    {
     "ename": "IndexError",
     "evalue": "list index out of range",
     "output_type": "error",
     "traceback": [
      "\u001b[0;31m\u001b[0m",
      "\u001b[0;31mIndexError\u001b[0mTraceback (most recent call last)",
      "\u001b[0;32m<ipython-input-20-4c87d8431645>\u001b[0m in \u001b[0;36m<module>\u001b[0;34m()\u001b[0m\n\u001b[1;32m      1\u001b[0m \u001b[0;31m# Plot incorrect examples\u001b[0m\u001b[0;34m\u001b[0m\u001b[0;34m\u001b[0m\u001b[0m\n\u001b[1;32m      2\u001b[0m \u001b[0midx\u001b[0m \u001b[0;34m=\u001b[0m \u001b[0;36m5\u001b[0m\u001b[0;34m\u001b[0m\u001b[0m\n\u001b[0;32m----> 3\u001b[0;31m \u001b[0mtrue\u001b[0m \u001b[0;34m=\u001b[0m \u001b[0mclasses\u001b[0m\u001b[0;34m[\u001b[0m\u001b[0minc_lbl_true\u001b[0m\u001b[0;34m[\u001b[0m\u001b[0midx\u001b[0m\u001b[0;34m]\u001b[0m\u001b[0;34m]\u001b[0m\u001b[0;34m\u001b[0m\u001b[0m\n\u001b[0m\u001b[1;32m      4\u001b[0m \u001b[0mour_model\u001b[0m \u001b[0;34m=\u001b[0m \u001b[0mclasses\u001b[0m\u001b[0;34m[\u001b[0m\u001b[0minc_lbl_model\u001b[0m\u001b[0;34m[\u001b[0m\u001b[0midx\u001b[0m\u001b[0;34m]\u001b[0m\u001b[0;34m]\u001b[0m\u001b[0;34m\u001b[0m\u001b[0m\n\u001b[1;32m      5\u001b[0m \u001b[0mx\u001b[0m\u001b[0;34m,\u001b[0m\u001b[0my\u001b[0m \u001b[0;34m=\u001b[0m \u001b[0msketchplot\u001b[0m\u001b[0;34m(\u001b[0m\u001b[0mx_test\u001b[0m\u001b[0;34m,\u001b[0m\u001b[0mincorrect\u001b[0m\u001b[0;34m[\u001b[0m\u001b[0midx\u001b[0m\u001b[0;34m]\u001b[0m\u001b[0;34m)\u001b[0m\u001b[0;34m\u001b[0m\u001b[0m\n",
      "\u001b[0;31mIndexError\u001b[0m: list index out of range"
     ]
    }
   ],
   "source": [
    "# Plot incorrect examples\n",
    "idx = 5\n",
    "true = classes[inc_lbl_true[idx]]\n",
    "our_model = classes[inc_lbl_model[idx]]\n",
    "x,y = sketchplot(x_test,incorrect[idx])\n",
    "plt.plot(x, -y, marker='.')\n",
    "\n",
    "plt.title('True label = ' + true+'; Classified as '+our_model)\n",
    "plt.axis('off')\n",
    "plt.savefig('should_be_'+true+'_but_'+our_model)"
   ]
  },
  {
   "cell_type": "code",
   "execution_count": null,
   "metadata": {},
   "outputs": [],
   "source": []
  }
 ],
 "metadata": {
  "kernelspec": {
   "display_name": "Python 3",
   "language": "python",
   "name": "python3"
  },
  "language_info": {
   "codemirror_mode": {
    "name": "ipython",
    "version": 3
   },
   "file_extension": ".py",
   "mimetype": "text/x-python",
   "name": "python",
   "nbconvert_exporter": "python",
   "pygments_lexer": "ipython3",
   "version": "3.6.4"
  }
 },
 "nbformat": 4,
 "nbformat_minor": 2
}
