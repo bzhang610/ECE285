{
 "cells": [
  {
   "cell_type": "code",
   "execution_count": null,
   "metadata": {},
   "outputs": [],
   "source": [
    "import pandas as pd\n",
    "import os\n",
    "import numpy as np\n",
    "import ast\n",
    "import matplotlib.pyplot as plt"
   ]
  },
  {
   "cell_type": "code",
   "execution_count": null,
   "metadata": {},
   "outputs": [],
   "source": [
    "def sketchplot(data_csv,row,row_max = 400):\n",
    "    # data_csv: csv file name\n",
    "    # row: the index of example to plot\n",
    "    # row_max: maximum number of examples to be imported from the data\n",
    "    data = pd.read_csv(data_csv, nrows=row_max) \n",
    "    points = data.iloc[row,0]\n",
    "    points = ast.literal_eval(points)\n",
    "    for xy in points:\n",
    "        [x,y] = xy\n",
    "        plt.plot(x, y, marker='.')\n",
    "    plt.axis('off')"
   ]
  }
 ],
 "metadata": {
  "kernelspec": {
   "display_name": "Python 3",
   "language": "python",
   "name": "python3"
  },
  "language_info": {
   "codemirror_mode": {
    "name": "ipython",
    "version": 3
   },
   "file_extension": ".py",
   "mimetype": "text/x-python",
   "name": "python",
   "nbconvert_exporter": "python",
   "pygments_lexer": "ipython3",
   "version": "3.6.5"
  }
 },
 "nbformat": 4,
 "nbformat_minor": 2
}
