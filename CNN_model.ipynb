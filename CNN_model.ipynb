{
 "cells": [
  {
   "cell_type": "code",
   "execution_count": null,
   "metadata": {},
   "outputs": [],
   "source": [
    "import torch\n",
    "import torch.nn as nn\n",
    "import torch.nn.functional as F\n",
    "\n",
    "import numpy as np"
   ]
  },
  {
   "cell_type": "code",
   "execution_count": 2,
   "metadata": {},
   "outputs": [],
   "source": [
    "from utils import load"
   ]
  },
  {
   "cell_type": "code",
   "execution_count": 3,
   "metadata": {},
   "outputs": [],
   "source": [
    "device = torch.device('cuda' if torch.cuda.is_available() else 'cpu')"
   ]
  },
  {
   "cell_type": "code",
   "execution_count": 4,
   "metadata": {},
   "outputs": [],
   "source": [
    "classes = [\"airplane\",\"angel\",\"basket\",\"bear\",\"belt\",\"candle\",\"crown\",\"cat\",\"bus\",\"dog\"]\n",
    "root_location = \"quickdraw/train_simplified/\"\n",
    "gen = load.ImageLoader(classes,root_location,read_size=32,batch_size=128)"
   ]
  },
  {
   "cell_type": "code",
   "execution_count": 5,
   "metadata": {},
   "outputs": [],
   "source": [
    "#Hyper parameters\n",
    "num_epochs = 10\n",
    "num_classes = gen.num_classes"
   ]
  },
  {
   "cell_type": "code",
   "execution_count": 6,
   "metadata": {},
   "outputs": [],
   "source": [
    "class LeNet(nn.Module):\n",
    "    def __init__(self,num_classes):\n",
    "        super(LeNet, self).__init__()\n",
    "        self.conv1 = nn.Conv2d(1, 6, (5,5), padding=2)\n",
    "        self.conv2 = nn.Conv2d(6, 16, (5,5))\n",
    "        self.fc1   = nn.Linear(576, 120)\n",
    "        self.fc2   = nn.Linear(120, 84)\n",
    "        self.fc3   = nn.Linear(84, num_classes)\n",
    "    def forward(self, x):\n",
    "        x = F.max_pool2d(F.relu(self.conv1(x)), (2,2))\n",
    "        x = F.max_pool2d(F.relu(self.conv2(x)), (2,2))\n",
    "        x = x.view(-1, self.num_flat_features(x))\n",
    "        x = F.relu(self.fc1(x))\n",
    "        x = F.relu(self.fc2(x))\n",
    "        x = self.fc3(x)\n",
    "        return x\n",
    "    def num_flat_features(self, x):\n",
    "        size = x.size()[1:]\n",
    "        num_features = 1\n",
    "        for s in size:\n",
    "            num_features *= s\n",
    "        return num_features"
   ]
  },
  {
   "cell_type": "code",
   "execution_count": 7,
   "metadata": {},
   "outputs": [
    {
     "name": "stdout",
     "output_type": "stream",
     "text": [
      "LeNet(\n",
      "  (conv1): Conv2d(1, 6, kernel_size=(5, 5), stride=(1, 1), padding=(2, 2))\n",
      "  (conv2): Conv2d(6, 16, kernel_size=(5, 5), stride=(1, 1))\n",
      "  (fc1): Linear(in_features=576, out_features=120, bias=True)\n",
      "  (fc2): Linear(in_features=120, out_features=84, bias=True)\n",
      "  (fc3): Linear(in_features=84, out_features=10, bias=True)\n",
      ")\n"
     ]
    }
   ],
   "source": [
    "model = LeNet(gen.num_classes).to(device).double()\n",
    "print(model)"
   ]
  },
  {
   "cell_type": "code",
   "execution_count": 8,
   "metadata": {},
   "outputs": [],
   "source": [
    "criterion = nn.CrossEntropyLoss()\n",
    "optimizer = torch.optim.Adam(model.parameters(), lr=0.001)"
   ]
  },
  {
   "cell_type": "code",
   "execution_count": null,
   "metadata": {},
   "outputs": [
    {
     "name": "stdout",
     "output_type": "stream",
     "text": [
      "Epoch [1/10], Step [500], Loss: 1.1425,Accuracy:64.8438\n",
      "Epoch [1/10], Step [1000], Loss: 0.7761,Accuracy:77.3438\n",
      "Epoch [1/10], Step [1500], Loss: 0.7679,Accuracy:76.5625\n",
      "Epoch [1/10], Step [2000], Loss: 0.7446,Accuracy:75.0000\n",
      "Epoch [1/10], Step [2500], Loss: 0.6557,Accuracy:82.8125\n",
      "Epoch [1/10], Step [3000], Loss: 0.5879,Accuracy:82.8125\n",
      "Epoch [1/10], Step [3500], Loss: 0.7097,Accuracy:76.5625\n",
      "Epoch [1/10], Step [4000], Loss: 0.6435,Accuracy:79.6875\n",
      "Epoch [1/10], Step [4500], Loss: 0.4167,Accuracy:85.9375\n",
      "Epoch [1/10], Step [5000], Loss: 0.6115,Accuracy:82.8125\n",
      "Epoch [1/10], Step [5500], Loss: 0.5406,Accuracy:80.4688\n",
      "Epoch [1/10], Step [6000], Loss: 0.6176,Accuracy:76.5625\n",
      "Epoch [1/10], Step [6500], Loss: 0.5172,Accuracy:81.2500\n",
      "Epoch [1/10], Step [7000], Loss: 0.4511,Accuracy:85.1562\n",
      "Epoch [1/10], Step [7500], Loss: 0.4987,Accuracy:79.6875\n",
      "Epoch [1/10], Step [8000], Loss: 0.3768,Accuracy:85.1562\n",
      "Epoch [1/10], Step [8500], Loss: 0.4095,Accuracy:87.5000\n",
      "Epoch [1/10], Step [9000], Loss: 0.3774,Accuracy:90.6250\n",
      "Epoch [1/10], Step [9500], Loss: 0.4801,Accuracy:85.1562\n",
      "Epoch [1/10], Step [10000], Loss: 0.4796,Accuracy:82.8125\n",
      "Epoch [1/10], Step [10500], Loss: 0.5217,Accuracy:84.3750\n"
     ]
    }
   ],
   "source": [
    "accuracy = [0]\n",
    "loss_stored = []\n",
    "for epoch in range(num_epochs):            \n",
    "    gen = load.ImageLoader(classes,root_location,read_size=32,batch_size=128)\n",
    "    for i, (images, labels) in enumerate(gen):\n",
    "        images = images.to(device)\n",
    "        labels = labels\n",
    "        \n",
    "        # Forward pass\n",
    "        outputs = model(images)\n",
    "        \n",
    "        loss = criterion(outputs.cpu(), labels)\n",
    "        acc = 100 * np.mean(labels.data.numpy() == outputs.cpu().data.numpy ().T.argmax(axis =0))\n",
    "        \n",
    "        # Backward and optimize\n",
    "        try:\n",
    "            optimizer.zero_grad()\n",
    "            loss.backward()\n",
    "            optimizer.step()\n",
    "        except:\n",
    "            continue\n",
    "        \n",
    "        del images\n",
    "        del labels\n",
    "        del outputs\n",
    "        torch.cuda.empty_cache()\n",
    "        if (i+1) % 500 == 0:\n",
    "            print ('Epoch [{}/{}], Step [{}], Loss: {:.4f},Accuracy:{:.4f}' .format(epoch+1, num_epochs, i+1, loss.item(),acc))\n",
    "            #model.save_state_dict('mytraining.pt')\n",
    "        if (i+1)%100==0:\n",
    "            loss_stored.append(loss.item())\n",
    "            accuracy.append((0.1*acc) + (0.9*accuracy[-1]))"
   ]
  },
  {
   "cell_type": "code",
   "execution_count": null,
   "metadata": {},
   "outputs": [],
   "source": []
  }
 ],
 "metadata": {
  "kernelspec": {
   "display_name": "Python 3",
   "language": "python",
   "name": "python3"
  },
  "language_info": {
   "codemirror_mode": {
    "name": "ipython",
    "version": 3
   },
   "file_extension": ".py",
   "mimetype": "text/x-python",
   "name": "python",
   "nbconvert_exporter": "python",
   "pygments_lexer": "ipython3",
   "version": "3.6.4"
  }
 },
 "nbformat": 4,
 "nbformat_minor": 2
}
