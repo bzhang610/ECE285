{
 "cells": [
  {
   "cell_type": "code",
   "execution_count": 1,
   "metadata": {},
   "outputs": [],
   "source": [
    "#Data handling libraries\n",
    "import numpy as np\n",
    "import pandas as pd\n",
    "import os\n",
    "\n",
    "#Data Visualization libraries\n",
    "import matplotlib.pyplot as plt\n",
    "from IPython.display import display, HTML"
   ]
  },
  {
   "cell_type": "code",
   "execution_count": 10,
   "metadata": {},
   "outputs": [],
   "source": [
    "classes = [\"airplane\",\"angel\",\"basket\",\"bear\",\"belt\",\"candle\",\"crown\",\"cat\",\"dog\",\"fish\"]\n",
    "\n",
    "\n",
    "class data_loader:\n",
    "    def __init__(self,access_files):\n",
    "        '''\n",
    "        Initialize a base data loader to load samples from a given access file\n",
    "        inputs:\n",
    "        -------\n",
    "        access_file: location of source folder\n",
    "        self: pointer to current class instance\n",
    "        '''\n",
    "        #self.access_file = access_file\n",
    "        frames = []\n",
    "        for index,file in enumerate(access_files):\n",
    "            data = pd.read_csv(file)\n",
    "            data.drop(data.loc[data['recognized']==False].index, inplace=True)\n",
    "            data.drop(columns=['recognized','timestamp','key_id'],axis=1,inplace=True)\n",
    "            frames.append(data)\n",
    "                \n",
    "        self.data = pd.concat(frames)\n",
    "        self.data = self.data.sample(frac=1).reset_index(drop=True)\n",
    "        display(HTML(self.data.head().to_html()))\n",
    "        \n",
    "    def __getitem__(self,index):\n",
    "        '''\n",
    "        Indexer of class to return specific locations during calls\n",
    "        inputs:\n",
    "        ------\n",
    "        self: pointer to current class instance\n",
    "        '''\n",
    "        return self.data.iloc[index];\n",
    "    \n",
    "    def head(self):\n",
    "        '''\n",
    "        To visualize sample values in the data\n",
    "        inputs:\n",
    "        -------\n",
    "        self: pointer to current class instance\n",
    "        '''\n",
    "        display(HTML(self.data.head().to_html()))"
   ]
  },
  {
   "cell_type": "code",
   "execution_count": 11,
   "metadata": {},
   "outputs": [
    {
     "data": {
      "text/html": [
       "<table border=\"1\" class=\"dataframe\">\n",
       "  <thead>\n",
       "    <tr style=\"text-align: right;\">\n",
       "      <th></th>\n",
       "      <th>countrycode</th>\n",
       "      <th>drawing</th>\n",
       "      <th>word</th>\n",
       "    </tr>\n",
       "  </thead>\n",
       "  <tbody>\n",
       "    <tr>\n",
       "      <th>0</th>\n",
       "      <td>US</td>\n",
       "      <td>[[[69, 80, 87, 93, 97, 100, 106, 131, 201, 237...</td>\n",
       "      <td>airplane</td>\n",
       "    </tr>\n",
       "    <tr>\n",
       "      <th>1</th>\n",
       "      <td>US</td>\n",
       "      <td>[[[151, 105, 67, 42, 22, 11, 4, 0, 23, 56, 131...</td>\n",
       "      <td>dog</td>\n",
       "    </tr>\n",
       "    <tr>\n",
       "      <th>2</th>\n",
       "      <td>GB</td>\n",
       "      <td>[[[152, 129, 113, 97, 75, 55, 27, 10, 14, 25, ...</td>\n",
       "      <td>cat</td>\n",
       "    </tr>\n",
       "    <tr>\n",
       "      <th>3</th>\n",
       "      <td>AE</td>\n",
       "      <td>[[[69, 47, 43, 47, 54, 78, 96, 106, 106, 98, 9...</td>\n",
       "      <td>dog</td>\n",
       "    </tr>\n",
       "    <tr>\n",
       "      <th>4</th>\n",
       "      <td>CA</td>\n",
       "      <td>[[[7, 7, 3, 28, 63, 69, 69, 64, 64, 57, 50, 13...</td>\n",
       "      <td>candle</td>\n",
       "    </tr>\n",
       "  </tbody>\n",
       "</table>"
      ],
      "text/plain": [
       "<IPython.core.display.HTML object>"
      ]
     },
     "metadata": {},
     "output_type": "display_data"
    }
   ],
   "source": [
    "data_folder = \"training data/\";\n",
    "access_file_generator = map(lambda x : data_folder + x + '.csv',classes);\n",
    "Data = data_loader(access_file_generator)"
   ]
  },
  {
   "cell_type": "code",
   "execution_count": null,
   "metadata": {},
   "outputs": [],
   "source": []
  }
 ],
 "metadata": {
  "kernelspec": {
   "display_name": "Python 3",
   "language": "python",
   "name": "python3"
  },
  "language_info": {
   "codemirror_mode": {
    "name": "ipython",
    "version": 3
   },
   "file_extension": ".py",
   "mimetype": "text/x-python",
   "name": "python",
   "nbconvert_exporter": "python",
   "pygments_lexer": "ipython3",
   "version": "3.6.6"
  }
 },
 "nbformat": 4,
 "nbformat_minor": 2
}
