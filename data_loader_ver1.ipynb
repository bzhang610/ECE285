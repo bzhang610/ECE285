{
 "cells": [
  {
   "cell_type": "code",
   "execution_count": 1,
   "metadata": {},
   "outputs": [],
   "source": [
    "#Data handling libraries\n",
    "import numpy as np\n",
    "import pandas as pd\n",
    "import os\n",
    "\n",
    "#Data Visualization libraries\n",
    "import matplotlib.pyplot as plt\n",
    "from IPython.display import display, HTML"
   ]
  },
  {
   "cell_type": "code",
   "execution_count": 9,
   "metadata": {},
   "outputs": [],
   "source": [
    "classes = [\"airplane\",\"angel\",\"basket\",\"bear\",\"belt\",\"candle\",\"crown\",\"cat\"]\n",
    "\n",
    "\n",
    "class DataLoader:\n",
    "    '''\n",
    "    Data Loader for google AI challenge used for generating batches of data from training source with minimal delay\n",
    "    '''\n",
    "    def __init__(self,access_files,batch_size=16):\n",
    "        '''\n",
    "        Initialize a base data loader to load samples from a given access file\n",
    "        inputs:\n",
    "        -------\n",
    "        access_file: location of source folder\n",
    "        self: pointer to current class instance\n",
    "        batch_size:size of batch to be taken from each file in the access_files set\n",
    "        '''\n",
    "        assert isinstance(access_files,map),\"Undesired input to the function, map iterable not provided to iterate through the files of the data\"\n",
    "        assert isinstance(batch_size,int),\"Undesired input to the function, batch size must be an integer\"\n",
    "        self.iterators = []#Create an empty list of generators to access data from multiple classes\n",
    "        \n",
    "        for index,file in enumerate(access_files):\n",
    "            assert isinstance(file,str),\"Undesired input, file name must be a string\"\n",
    "            data_generator = pd.read_csv(file,usecols=[\"drawing\",\"word\"],chunksize=batch_size)\n",
    "            self.iterators.append(data_generator)\n",
    "        \n",
    "    def __next__(self):\n",
    "        '''\n",
    "        Proceed to the next batch of data\n",
    "        \n",
    "        inputs:\n",
    "        ------\n",
    "        self: pointer to class instance\n",
    "        \n",
    "        outputs:\n",
    "        -------\n",
    "        dataframe: (dtype:pandas dataframe)Dataframe of samples form different classes\n",
    "        '''\n",
    "        data = []\n",
    "        for it in self.iterators:\n",
    "            data.append(next(it));\n",
    "        dataframe = pd.concat(data)\n",
    "        dataframe = dataframe.sample(frac=1).reset_index(drop=True)\n",
    "        return dataframe\n",
    "    \n",
    "    def __iter__(self):\n",
    "        '''\n",
    "        Iterator to allow for iteration along dataset\n",
    "        \n",
    "        inputs:\n",
    "        -------\n",
    "        self:pointer to the instance of the class\n",
    "        \n",
    "        outputs:\n",
    "        -------\n",
    "        self:pointer to the instance of the class\n",
    "        '''\n",
    "        return self\n",
    "            "
   ]
  },
  {
   "cell_type": "code",
   "execution_count": 10,
   "metadata": {},
   "outputs": [],
   "source": [
    "data_folder = \"data/simplified/\"\n",
    "access_file_generator = map(lambda x : data_folder + x + '.csv',classes)\n",
    "data = DataLoader(access_file_generator)"
   ]
  },
  {
   "cell_type": "code",
   "execution_count": 12,
   "metadata": {},
   "outputs": [],
   "source": [
    "import types"
   ]
  },
  {
   "cell_type": "code",
   "execution_count": 13,
   "metadata": {},
   "outputs": [
    {
     "data": {
      "text/plain": [
       "generator"
      ]
     },
     "execution_count": 13,
     "metadata": {},
     "output_type": "execute_result"
    }
   ],
   "source": [
    "types.GeneratorType"
   ]
  },
  {
   "cell_type": "code",
   "execution_count": 14,
   "metadata": {},
   "outputs": [
    {
     "data": {
      "text/plain": [
       "map"
      ]
     },
     "execution_count": 14,
     "metadata": {},
     "output_type": "execute_result"
    }
   ],
   "source": [
    "type(access_file_generator)"
   ]
  },
  {
   "cell_type": "code",
   "execution_count": 16,
   "metadata": {},
   "outputs": [
    {
     "data": {
      "text/plain": [
       "False"
      ]
     },
     "execution_count": 16,
     "metadata": {},
     "output_type": "execute_result"
    }
   ],
   "source": [
    "isinstance(access_file_generator,types.GeneratorType)"
   ]
  },
  {
   "cell_type": "code",
   "execution_count": null,
   "metadata": {},
   "outputs": [],
   "source": []
  }
 ],
 "metadata": {
  "kernelspec": {
   "display_name": "Python 3",
   "language": "python",
   "name": "python3"
  },
  "language_info": {
   "codemirror_mode": {
    "name": "ipython",
    "version": 3
   },
   "file_extension": ".py",
   "mimetype": "text/x-python",
   "name": "python",
   "nbconvert_exporter": "python",
   "pygments_lexer": "ipython3",
   "version": "3.6.6"
  }
 },
 "nbformat": 4,
 "nbformat_minor": 2
}
